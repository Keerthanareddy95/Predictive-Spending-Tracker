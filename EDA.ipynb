{
 "cells": [
  {
   "cell_type": "code",
   "execution_count": 1,
   "metadata": {},
   "outputs": [],
   "source": [
    "import pandas as pd\n",
    "import numpy as np\n",
    "import seaborn as sb "
   ]
  },
  {
   "cell_type": "code",
   "execution_count": 2,
   "metadata": {},
   "outputs": [],
   "source": [
    "data = pd.read_csv(\"D:\\PREDICTIVE_SPENDING _TRACKER\\data\\personal_transactions.csv\")"
   ]
  },
  {
   "cell_type": "code",
   "execution_count": 3,
   "metadata": {},
   "outputs": [
    {
     "data": {
      "text/html": [
       "<div>\n",
       "<style scoped>\n",
       "    .dataframe tbody tr th:only-of-type {\n",
       "        vertical-align: middle;\n",
       "    }\n",
       "\n",
       "    .dataframe tbody tr th {\n",
       "        vertical-align: top;\n",
       "    }\n",
       "\n",
       "    .dataframe thead th {\n",
       "        text-align: right;\n",
       "    }\n",
       "</style>\n",
       "<table border=\"1\" class=\"dataframe\">\n",
       "  <thead>\n",
       "    <tr style=\"text-align: right;\">\n",
       "      <th></th>\n",
       "      <th>Date</th>\n",
       "      <th>Description</th>\n",
       "      <th>Amount</th>\n",
       "      <th>Transaction Type</th>\n",
       "      <th>Category</th>\n",
       "      <th>Account Name</th>\n",
       "    </tr>\n",
       "  </thead>\n",
       "  <tbody>\n",
       "    <tr>\n",
       "      <th>0</th>\n",
       "      <td>01-01-2018</td>\n",
       "      <td>Amazon</td>\n",
       "      <td>11.11</td>\n",
       "      <td>debit</td>\n",
       "      <td>Shopping</td>\n",
       "      <td>Platinum Card</td>\n",
       "    </tr>\n",
       "    <tr>\n",
       "      <th>1</th>\n",
       "      <td>01-02-2018</td>\n",
       "      <td>Mortgage Payment</td>\n",
       "      <td>1247.44</td>\n",
       "      <td>debit</td>\n",
       "      <td>Mortgage &amp; Rent</td>\n",
       "      <td>Checking</td>\n",
       "    </tr>\n",
       "    <tr>\n",
       "      <th>2</th>\n",
       "      <td>01-02-2018</td>\n",
       "      <td>Thai Restaurant</td>\n",
       "      <td>24.22</td>\n",
       "      <td>debit</td>\n",
       "      <td>Restaurants</td>\n",
       "      <td>Silver Card</td>\n",
       "    </tr>\n",
       "    <tr>\n",
       "      <th>3</th>\n",
       "      <td>01-03-2018</td>\n",
       "      <td>Credit Card Payment</td>\n",
       "      <td>2298.09</td>\n",
       "      <td>credit</td>\n",
       "      <td>Credit Card Payment</td>\n",
       "      <td>Platinum Card</td>\n",
       "    </tr>\n",
       "    <tr>\n",
       "      <th>4</th>\n",
       "      <td>01-04-2018</td>\n",
       "      <td>Netflix</td>\n",
       "      <td>11.76</td>\n",
       "      <td>debit</td>\n",
       "      <td>Movies &amp; DVDs</td>\n",
       "      <td>Platinum Card</td>\n",
       "    </tr>\n",
       "  </tbody>\n",
       "</table>\n",
       "</div>"
      ],
      "text/plain": [
       "         Date          Description   Amount Transaction Type   \n",
       "0  01-01-2018               Amazon    11.11            debit  \\\n",
       "1  01-02-2018     Mortgage Payment  1247.44            debit   \n",
       "2  01-02-2018      Thai Restaurant    24.22            debit   \n",
       "3  01-03-2018  Credit Card Payment  2298.09           credit   \n",
       "4  01-04-2018              Netflix    11.76            debit   \n",
       "\n",
       "              Category   Account Name  \n",
       "0             Shopping  Platinum Card  \n",
       "1      Mortgage & Rent       Checking  \n",
       "2          Restaurants    Silver Card  \n",
       "3  Credit Card Payment  Platinum Card  \n",
       "4        Movies & DVDs  Platinum Card  "
      ]
     },
     "execution_count": 3,
     "metadata": {},
     "output_type": "execute_result"
    }
   ],
   "source": [
    "data.head()"
   ]
  },
  {
   "cell_type": "code",
   "execution_count": 4,
   "metadata": {},
   "outputs": [
    {
     "data": {
      "text/html": [
       "<div>\n",
       "<style scoped>\n",
       "    .dataframe tbody tr th:only-of-type {\n",
       "        vertical-align: middle;\n",
       "    }\n",
       "\n",
       "    .dataframe tbody tr th {\n",
       "        vertical-align: top;\n",
       "    }\n",
       "\n",
       "    .dataframe thead th {\n",
       "        text-align: right;\n",
       "    }\n",
       "</style>\n",
       "<table border=\"1\" class=\"dataframe\">\n",
       "  <thead>\n",
       "    <tr style=\"text-align: right;\">\n",
       "      <th></th>\n",
       "      <th>Date</th>\n",
       "      <th>Description</th>\n",
       "      <th>Amount</th>\n",
       "      <th>Transaction Type</th>\n",
       "      <th>Category</th>\n",
       "      <th>Account Name</th>\n",
       "    </tr>\n",
       "  </thead>\n",
       "  <tbody>\n",
       "    <tr>\n",
       "      <th>801</th>\n",
       "      <td>09/27/2019</td>\n",
       "      <td>Biweekly Paycheck</td>\n",
       "      <td>2250.00</td>\n",
       "      <td>credit</td>\n",
       "      <td>Paycheck</td>\n",
       "      <td>Checking</td>\n",
       "    </tr>\n",
       "    <tr>\n",
       "      <th>802</th>\n",
       "      <td>09/28/2019</td>\n",
       "      <td>BP</td>\n",
       "      <td>33.46</td>\n",
       "      <td>debit</td>\n",
       "      <td>Gas &amp; Fuel</td>\n",
       "      <td>Platinum Card</td>\n",
       "    </tr>\n",
       "    <tr>\n",
       "      <th>803</th>\n",
       "      <td>09/28/2019</td>\n",
       "      <td>Sheetz</td>\n",
       "      <td>4.27</td>\n",
       "      <td>debit</td>\n",
       "      <td>Gas &amp; Fuel</td>\n",
       "      <td>Platinum Card</td>\n",
       "    </tr>\n",
       "    <tr>\n",
       "      <th>804</th>\n",
       "      <td>09/30/2019</td>\n",
       "      <td>Starbucks</td>\n",
       "      <td>1.75</td>\n",
       "      <td>debit</td>\n",
       "      <td>Coffee Shops</td>\n",
       "      <td>Platinum Card</td>\n",
       "    </tr>\n",
       "    <tr>\n",
       "      <th>805</th>\n",
       "      <td>09/30/2019</td>\n",
       "      <td>Internet Service Provider</td>\n",
       "      <td>75.00</td>\n",
       "      <td>debit</td>\n",
       "      <td>Internet</td>\n",
       "      <td>Checking</td>\n",
       "    </tr>\n",
       "  </tbody>\n",
       "</table>\n",
       "</div>"
      ],
      "text/plain": [
       "           Date                Description   Amount Transaction Type   \n",
       "801  09/27/2019          Biweekly Paycheck  2250.00           credit  \\\n",
       "802  09/28/2019                         BP    33.46            debit   \n",
       "803  09/28/2019                     Sheetz     4.27            debit   \n",
       "804  09/30/2019                  Starbucks     1.75            debit   \n",
       "805  09/30/2019  Internet Service Provider    75.00            debit   \n",
       "\n",
       "         Category   Account Name  \n",
       "801      Paycheck       Checking  \n",
       "802    Gas & Fuel  Platinum Card  \n",
       "803    Gas & Fuel  Platinum Card  \n",
       "804  Coffee Shops  Platinum Card  \n",
       "805      Internet       Checking  "
      ]
     },
     "execution_count": 4,
     "metadata": {},
     "output_type": "execute_result"
    }
   ],
   "source": [
    "data.tail()"
   ]
  },
  {
   "cell_type": "code",
   "execution_count": 5,
   "metadata": {},
   "outputs": [
    {
     "data": {
      "text/plain": [
       "(806, 6)"
      ]
     },
     "execution_count": 5,
     "metadata": {},
     "output_type": "execute_result"
    }
   ],
   "source": [
    "data.shape"
   ]
  },
  {
   "cell_type": "code",
   "execution_count": 6,
   "metadata": {},
   "outputs": [
    {
     "data": {
      "text/html": [
       "<div>\n",
       "<style scoped>\n",
       "    .dataframe tbody tr th:only-of-type {\n",
       "        vertical-align: middle;\n",
       "    }\n",
       "\n",
       "    .dataframe tbody tr th {\n",
       "        vertical-align: top;\n",
       "    }\n",
       "\n",
       "    .dataframe thead th {\n",
       "        text-align: right;\n",
       "    }\n",
       "</style>\n",
       "<table border=\"1\" class=\"dataframe\">\n",
       "  <thead>\n",
       "    <tr style=\"text-align: right;\">\n",
       "      <th></th>\n",
       "      <th>Amount</th>\n",
       "    </tr>\n",
       "  </thead>\n",
       "  <tbody>\n",
       "    <tr>\n",
       "      <th>count</th>\n",
       "      <td>806.000000</td>\n",
       "    </tr>\n",
       "    <tr>\n",
       "      <th>mean</th>\n",
       "      <td>273.391489</td>\n",
       "    </tr>\n",
       "    <tr>\n",
       "      <th>std</th>\n",
       "      <td>667.630374</td>\n",
       "    </tr>\n",
       "    <tr>\n",
       "      <th>min</th>\n",
       "      <td>1.750000</td>\n",
       "    </tr>\n",
       "    <tr>\n",
       "      <th>25%</th>\n",
       "      <td>15.687500</td>\n",
       "    </tr>\n",
       "    <tr>\n",
       "      <th>50%</th>\n",
       "      <td>37.480000</td>\n",
       "    </tr>\n",
       "    <tr>\n",
       "      <th>75%</th>\n",
       "      <td>117.680000</td>\n",
       "    </tr>\n",
       "    <tr>\n",
       "      <th>max</th>\n",
       "      <td>9200.000000</td>\n",
       "    </tr>\n",
       "  </tbody>\n",
       "</table>\n",
       "</div>"
      ],
      "text/plain": [
       "            Amount\n",
       "count   806.000000\n",
       "mean    273.391489\n",
       "std     667.630374\n",
       "min       1.750000\n",
       "25%      15.687500\n",
       "50%      37.480000\n",
       "75%     117.680000\n",
       "max    9200.000000"
      ]
     },
     "execution_count": 6,
     "metadata": {},
     "output_type": "execute_result"
    }
   ],
   "source": [
    "data.describe()"
   ]
  },
  {
   "cell_type": "code",
   "execution_count": 7,
   "metadata": {},
   "outputs": [
    {
     "data": {
      "text/plain": [
       "Index(['Date', 'Description', 'Amount', 'Transaction Type', 'Category',\n",
       "       'Account Name'],\n",
       "      dtype='object')"
      ]
     },
     "execution_count": 7,
     "metadata": {},
     "output_type": "execute_result"
    }
   ],
   "source": [
    "data.columns"
   ]
  },
  {
   "cell_type": "code",
   "execution_count": 8,
   "metadata": {},
   "outputs": [
    {
     "data": {
      "text/plain": [
       "Date                432\n",
       "Description          65\n",
       "Amount              454\n",
       "Transaction Type      2\n",
       "Category             22\n",
       "Account Name          3\n",
       "dtype: int64"
      ]
     },
     "execution_count": 8,
     "metadata": {},
     "output_type": "execute_result"
    }
   ],
   "source": [
    "data.nunique()"
   ]
  },
  {
   "cell_type": "code",
   "execution_count": 9,
   "metadata": {},
   "outputs": [
    {
     "data": {
      "text/plain": [
       "array(['debit', 'credit'], dtype=object)"
      ]
     },
     "execution_count": 9,
     "metadata": {},
     "output_type": "execute_result"
    }
   ],
   "source": [
    "data['Transaction Type'].unique()"
   ]
  },
  {
   "cell_type": "code",
   "execution_count": 10,
   "metadata": {},
   "outputs": [
    {
     "data": {
      "text/plain": [
       "Date                0\n",
       "Description         0\n",
       "Amount              0\n",
       "Transaction Type    0\n",
       "Category            0\n",
       "Account Name        0\n",
       "dtype: int64"
      ]
     },
     "execution_count": 10,
     "metadata": {},
     "output_type": "execute_result"
    }
   ],
   "source": [
    "data.isnull().sum()"
   ]
  },
  {
   "cell_type": "code",
   "execution_count": 11,
   "metadata": {},
   "outputs": [],
   "source": [
    "import matplotlib.pyplot as plt"
   ]
  },
  {
   "cell_type": "code",
   "execution_count": 14,
   "metadata": {},
   "outputs": [
    {
     "data": {
      "text/html": [
       "<div>\n",
       "<style scoped>\n",
       "    .dataframe tbody tr th:only-of-type {\n",
       "        vertical-align: middle;\n",
       "    }\n",
       "\n",
       "    .dataframe tbody tr th {\n",
       "        vertical-align: top;\n",
       "    }\n",
       "\n",
       "    .dataframe thead th {\n",
       "        text-align: right;\n",
       "    }\n",
       "</style>\n",
       "<table border=\"1\" class=\"dataframe\">\n",
       "  <thead>\n",
       "    <tr style=\"text-align: right;\">\n",
       "      <th></th>\n",
       "      <th>Date</th>\n",
       "      <th>Description</th>\n",
       "      <th>Amount</th>\n",
       "      <th>Transaction Type</th>\n",
       "      <th>Category</th>\n",
       "      <th>Account Name</th>\n",
       "      <th>Month</th>\n",
       "    </tr>\n",
       "  </thead>\n",
       "  <tbody>\n",
       "    <tr>\n",
       "      <th>0</th>\n",
       "      <td>01-01-2018</td>\n",
       "      <td>Amazon</td>\n",
       "      <td>11.11</td>\n",
       "      <td>debit</td>\n",
       "      <td>Shopping</td>\n",
       "      <td>Platinum Card</td>\n",
       "      <td>1</td>\n",
       "    </tr>\n",
       "    <tr>\n",
       "      <th>1</th>\n",
       "      <td>01-02-2018</td>\n",
       "      <td>Mortgage Payment</td>\n",
       "      <td>1247.44</td>\n",
       "      <td>debit</td>\n",
       "      <td>Mortgage &amp; Rent</td>\n",
       "      <td>Checking</td>\n",
       "      <td>1</td>\n",
       "    </tr>\n",
       "    <tr>\n",
       "      <th>2</th>\n",
       "      <td>01-02-2018</td>\n",
       "      <td>Thai Restaurant</td>\n",
       "      <td>24.22</td>\n",
       "      <td>debit</td>\n",
       "      <td>Restaurants</td>\n",
       "      <td>Silver Card</td>\n",
       "      <td>1</td>\n",
       "    </tr>\n",
       "    <tr>\n",
       "      <th>3</th>\n",
       "      <td>01-03-2018</td>\n",
       "      <td>Credit Card Payment</td>\n",
       "      <td>2298.09</td>\n",
       "      <td>credit</td>\n",
       "      <td>Credit Card Payment</td>\n",
       "      <td>Platinum Card</td>\n",
       "      <td>1</td>\n",
       "    </tr>\n",
       "    <tr>\n",
       "      <th>4</th>\n",
       "      <td>01-04-2018</td>\n",
       "      <td>Netflix</td>\n",
       "      <td>11.76</td>\n",
       "      <td>debit</td>\n",
       "      <td>Movies &amp; DVDs</td>\n",
       "      <td>Platinum Card</td>\n",
       "      <td>1</td>\n",
       "    </tr>\n",
       "  </tbody>\n",
       "</table>\n",
       "</div>"
      ],
      "text/plain": [
       "         Date          Description   Amount Transaction Type   \n",
       "0  01-01-2018               Amazon    11.11            debit  \\\n",
       "1  01-02-2018     Mortgage Payment  1247.44            debit   \n",
       "2  01-02-2018      Thai Restaurant    24.22            debit   \n",
       "3  01-03-2018  Credit Card Payment  2298.09           credit   \n",
       "4  01-04-2018              Netflix    11.76            debit   \n",
       "\n",
       "              Category   Account Name  Month  \n",
       "0             Shopping  Platinum Card      1  \n",
       "1      Mortgage & Rent       Checking      1  \n",
       "2          Restaurants    Silver Card      1  \n",
       "3  Credit Card Payment  Platinum Card      1  \n",
       "4        Movies & DVDs  Platinum Card      1  "
      ]
     },
     "execution_count": 14,
     "metadata": {},
     "output_type": "execute_result"
    }
   ],
   "source": [
    "#Creating a month column\n",
    "data['Month'] = pd.DatetimeIndex(data['Date']).month\n",
    "data.head()"
   ]
  },
  {
   "cell_type": "code",
   "execution_count": 15,
   "metadata": {},
   "outputs": [
    {
     "data": {
      "text/html": [
       "<div>\n",
       "<style scoped>\n",
       "    .dataframe tbody tr th:only-of-type {\n",
       "        vertical-align: middle;\n",
       "    }\n",
       "\n",
       "    .dataframe tbody tr th {\n",
       "        vertical-align: top;\n",
       "    }\n",
       "\n",
       "    .dataframe thead th {\n",
       "        text-align: right;\n",
       "    }\n",
       "</style>\n",
       "<table border=\"1\" class=\"dataframe\">\n",
       "  <thead>\n",
       "    <tr style=\"text-align: right;\">\n",
       "      <th></th>\n",
       "      <th>Date</th>\n",
       "      <th>Description</th>\n",
       "      <th>Amount</th>\n",
       "      <th>Transaction Type</th>\n",
       "      <th>Category</th>\n",
       "      <th>Account Name</th>\n",
       "      <th>Month</th>\n",
       "      <th>Year</th>\n",
       "    </tr>\n",
       "  </thead>\n",
       "  <tbody>\n",
       "    <tr>\n",
       "      <th>0</th>\n",
       "      <td>01-01-2018</td>\n",
       "      <td>Amazon</td>\n",
       "      <td>11.11</td>\n",
       "      <td>debit</td>\n",
       "      <td>Shopping</td>\n",
       "      <td>Platinum Card</td>\n",
       "      <td>1</td>\n",
       "      <td>2018</td>\n",
       "    </tr>\n",
       "    <tr>\n",
       "      <th>1</th>\n",
       "      <td>01-02-2018</td>\n",
       "      <td>Mortgage Payment</td>\n",
       "      <td>1247.44</td>\n",
       "      <td>debit</td>\n",
       "      <td>Mortgage &amp; Rent</td>\n",
       "      <td>Checking</td>\n",
       "      <td>1</td>\n",
       "      <td>2018</td>\n",
       "    </tr>\n",
       "    <tr>\n",
       "      <th>2</th>\n",
       "      <td>01-02-2018</td>\n",
       "      <td>Thai Restaurant</td>\n",
       "      <td>24.22</td>\n",
       "      <td>debit</td>\n",
       "      <td>Restaurants</td>\n",
       "      <td>Silver Card</td>\n",
       "      <td>1</td>\n",
       "      <td>2018</td>\n",
       "    </tr>\n",
       "    <tr>\n",
       "      <th>3</th>\n",
       "      <td>01-03-2018</td>\n",
       "      <td>Credit Card Payment</td>\n",
       "      <td>2298.09</td>\n",
       "      <td>credit</td>\n",
       "      <td>Credit Card Payment</td>\n",
       "      <td>Platinum Card</td>\n",
       "      <td>1</td>\n",
       "      <td>2018</td>\n",
       "    </tr>\n",
       "    <tr>\n",
       "      <th>4</th>\n",
       "      <td>01-04-2018</td>\n",
       "      <td>Netflix</td>\n",
       "      <td>11.76</td>\n",
       "      <td>debit</td>\n",
       "      <td>Movies &amp; DVDs</td>\n",
       "      <td>Platinum Card</td>\n",
       "      <td>1</td>\n",
       "      <td>2018</td>\n",
       "    </tr>\n",
       "  </tbody>\n",
       "</table>\n",
       "</div>"
      ],
      "text/plain": [
       "         Date          Description   Amount Transaction Type   \n",
       "0  01-01-2018               Amazon    11.11            debit  \\\n",
       "1  01-02-2018     Mortgage Payment  1247.44            debit   \n",
       "2  01-02-2018      Thai Restaurant    24.22            debit   \n",
       "3  01-03-2018  Credit Card Payment  2298.09           credit   \n",
       "4  01-04-2018              Netflix    11.76            debit   \n",
       "\n",
       "              Category   Account Name  Month  Year  \n",
       "0             Shopping  Platinum Card      1  2018  \n",
       "1      Mortgage & Rent       Checking      1  2018  \n",
       "2          Restaurants    Silver Card      1  2018  \n",
       "3  Credit Card Payment  Platinum Card      1  2018  \n",
       "4        Movies & DVDs  Platinum Card      1  2018  "
      ]
     },
     "execution_count": 15,
     "metadata": {},
     "output_type": "execute_result"
    }
   ],
   "source": [
    "# Creating a Year Column #\n",
    "data['Year'] = pd.DatetimeIndex(data['Date']).year\n",
    "data.head()"
   ]
  },
  {
   "cell_type": "code",
   "execution_count": 22,
   "metadata": {},
   "outputs": [
    {
     "data": {
      "application/vnd.plotly.v1+json": {
       "config": {
        "plotlyServerURL": "https://plot.ly"
       },
       "data": [
        {
         "domain": {
          "x": [
           0,
           1
          ],
          "y": [
           0,
           1
          ]
         },
         "hovertemplate": "Category=%{label}<br>Amount=%{value}<extra></extra>",
         "labels": [
          "Shopping",
          "Mortgage & Rent",
          "Restaurants",
          "Credit Card Payment",
          "Movies & DVDs",
          "Restaurants",
          "Home Improvement",
          "Utilities",
          "Home Improvement",
          "Music",
          "Mobile Phone",
          "Gas & Fuel",
          "Groceries",
          "Paycheck",
          "Fast Food",
          "Shopping",
          "Groceries",
          "Restaurants",
          "Utilities",
          "Utilities",
          "Paycheck",
          "Shopping",
          "Credit Card Payment",
          "Credit Card Payment",
          "Credit Card Payment",
          "Home Improvement",
          "Credit Card Payment",
          "Coffee Shops",
          "Internet",
          "Gas & Fuel",
          "Restaurants",
          "Restaurants",
          "Groceries",
          "Shopping",
          "Mortgage & Rent",
          "Paycheck",
          "Restaurants",
          "Movies & DVDs",
          "Credit Card Payment",
          "Credit Card Payment",
          "Credit Card Payment",
          "Utilities",
          "Haircut",
          "Music",
          "Fast Food",
          "Restaurants",
          "Gas & Fuel",
          "Mobile Phone",
          "Alcohol & Bars",
          "Restaurants",
          "Utilities",
          "Paycheck",
          "Restaurants",
          "Utilities",
          "Groceries",
          "Restaurants",
          "Coffee Shops",
          "Coffee Shops",
          "Credit Card Payment",
          "Credit Card Payment",
          "Credit Card Payment",
          "Internet",
          "Restaurants",
          "Gas & Fuel",
          "Credit Card Payment",
          "Groceries",
          "Shopping",
          "Mortgage & Rent",
          "Paycheck",
          "Groceries",
          "Groceries",
          "Movies & DVDs",
          "Restaurants",
          "Coffee Shops",
          "Credit Card Payment",
          "Credit Card Payment",
          "Coffee Shops",
          "Gas & Fuel",
          "Utilities",
          "Groceries",
          "Groceries",
          "Music",
          "Groceries",
          "Mobile Phone",
          "Shopping",
          "Groceries",
          "Restaurants",
          "Coffee Shops",
          "Utilities",
          "Paycheck",
          "Alcohol & Bars",
          "Fast Food",
          "Restaurants",
          "Utilities",
          "Shopping",
          "Gas & Fuel",
          "Credit Card Payment",
          "Credit Card Payment",
          "Groceries",
          "Internet",
          "Groceries",
          "Restaurants",
          "Restaurants",
          "Groceries",
          "Paycheck",
          "Restaurants",
          "Restaurants",
          "Restaurants",
          "Groceries",
          "Restaurants",
          "Shopping",
          "Credit Card Payment",
          "Credit Card Payment",
          "Groceries",
          "Home Improvement",
          "Mortgage & Rent",
          "Movies & DVDs",
          "Credit Card Payment",
          "Credit Card Payment",
          "Movies & DVDs",
          "Gas & Fuel",
          "Restaurants",
          "Restaurants",
          "Groceries",
          "Music",
          "Utilities",
          "Mobile Phone",
          "Coffee Shops",
          "Haircut",
          "Gas & Fuel",
          "Paycheck",
          "Restaurants",
          "Home Improvement",
          "Restaurants",
          "Auto Insurance",
          "Utilities",
          "Utilities",
          "Restaurants",
          "Groceries",
          "Restaurants",
          "Groceries",
          "Home Improvement",
          "Home Improvement",
          "Shopping",
          "Home Improvement",
          "Internet",
          "Credit Card Payment",
          "Credit Card Payment",
          "Credit Card Payment",
          "Credit Card Payment",
          "Paycheck",
          "Groceries",
          "Gas & Fuel",
          "Groceries",
          "Home Improvement",
          "Groceries",
          "Shopping",
          "Mortgage & Rent",
          "Shopping",
          "Groceries",
          "Movies & DVDs",
          "Fast Food",
          "Fast Food",
          "Home Improvement",
          "Shopping",
          "Credit Card Payment",
          "Credit Card Payment",
          "Music",
          "Utilities",
          "Mobile Phone",
          "Groceries",
          "Paycheck",
          "Home Improvement",
          "Alcohol & Bars",
          "Gas & Fuel",
          "Restaurants",
          "Groceries",
          "Utilities",
          "Haircut",
          "Utilities",
          "Auto Insurance",
          "Shopping",
          "Credit Card Payment",
          "Groceries",
          "Restaurants",
          "Credit Card Payment",
          "Restaurants",
          "Shopping",
          "Credit Card Payment",
          "Gas & Fuel",
          "Internet",
          "Paycheck",
          "Entertainment",
          "Groceries",
          "Movies & DVDs",
          "Movies & DVDs",
          "Gas & Fuel",
          "Groceries",
          "Shopping",
          "Credit Card Payment",
          "Credit Card Payment",
          "Restaurants",
          "Credit Card Payment",
          "Groceries",
          "Mortgage & Rent",
          "Movies & DVDs",
          "Coffee Shops",
          "Paycheck",
          "Utilities",
          "Fast Food",
          "Groceries",
          "Music",
          "Groceries",
          "Groceries",
          "Mobile Phone",
          "Credit Card Payment",
          "Credit Card Payment",
          "Groceries",
          "Utilities",
          "Coffee Shops",
          "Fast Food",
          "Groceries",
          "Utilities",
          "Gas & Fuel",
          "Groceries",
          "Auto Insurance",
          "Credit Card Payment",
          "Haircut",
          "Credit Card Payment",
          "Paycheck",
          "Restaurants",
          "Shopping",
          "Credit Card Payment",
          "Credit Card Payment",
          "Internet",
          "Groceries",
          "Coffee Shops",
          "Fast Food",
          "Groceries",
          "Shopping",
          "Mortgage & Rent",
          "Movies & DVDs",
          "Restaurants",
          "Gas & Fuel",
          "Movies & DVDs",
          "Groceries",
          "Shopping",
          "Movies & DVDs",
          "Paycheck",
          "Credit Card Payment",
          "Credit Card Payment",
          "Credit Card Payment",
          "Music",
          "Credit Card Payment",
          "Groceries",
          "Utilities",
          "Mobile Phone",
          "Gas & Fuel",
          "Gas & Fuel",
          "Fast Food",
          "Utilities",
          "Utilities",
          "Alcohol & Bars",
          "Auto Insurance",
          "Credit Card Payment",
          "Credit Card Payment",
          "Credit Card Payment",
          "Paycheck",
          "Groceries",
          "Haircut",
          "Credit Card Payment",
          "Fast Food",
          "Restaurants",
          "Internet",
          "Gas & Fuel",
          "Groceries",
          "Restaurants",
          "Alcohol & Bars",
          "Shopping",
          "Credit Card Payment",
          "Gas & Fuel",
          "Mortgage & Rent",
          "Groceries",
          "Paycheck",
          "Movies & DVDs",
          "Shopping",
          "Music",
          "Utilities",
          "Mobile Phone",
          "Fast Food",
          "Gas & Fuel",
          "Credit Card Payment",
          "Credit Card Payment",
          "Gas & Fuel",
          "Groceries",
          "Utilities",
          "Credit Card Payment",
          "Utilities",
          "Paycheck",
          "Shopping",
          "Shopping",
          "Auto Insurance",
          "Credit Card Payment",
          "Credit Card Payment",
          "Credit Card Payment",
          "Credit Card Payment",
          "Restaurants",
          "Internet",
          "Gas & Fuel",
          "Groceries",
          "Paycheck",
          "Alcohol & Bars",
          "Shopping",
          "Shopping",
          "Credit Card Payment",
          "Credit Card Payment",
          "Mortgage & Rent",
          "Movies & DVDs",
          "Utilities",
          "Alcohol & Bars",
          "Music",
          "Gas & Fuel",
          "Groceries",
          "Groceries",
          "Mobile Phone",
          "Groceries",
          "Credit Card Payment",
          "Paycheck",
          "Groceries",
          "Groceries",
          "Utilities",
          "Groceries",
          "Utilities",
          "Auto Insurance",
          "Haircut",
          "Shopping",
          "Home Improvement",
          "Home Improvement",
          "Internet",
          "Restaurants",
          "Coffee Shops",
          "Gas & Fuel",
          "Gas & Fuel",
          "Credit Card Payment",
          "Credit Card Payment",
          "Credit Card Payment",
          "Groceries",
          "Paycheck",
          "Restaurants",
          "Restaurants",
          "Coffee Shops",
          "Credit Card Payment",
          "Groceries",
          "Shopping",
          "Credit Card Payment",
          "Credit Card Payment",
          "Mortgage & Rent",
          "Movies & DVDs",
          "Restaurants",
          "Gas & Fuel",
          "Home Improvement",
          "Home Improvement",
          "Music",
          "Shopping",
          "Utilities",
          "Groceries",
          "Mobile Phone",
          "Paycheck",
          "Utilities",
          "Utilities",
          "Auto Insurance",
          "Groceries",
          "Home Improvement",
          "Restaurants",
          "Credit Card Payment",
          "Credit Card Payment",
          "Credit Card Payment",
          "Gas & Fuel",
          "Groceries",
          "Internet",
          "Shopping",
          "Paycheck",
          "Restaurants",
          "Alcohol & Bars",
          "Food & Dining",
          "Groceries",
          "Restaurants",
          "Groceries",
          "Shopping",
          "Credit Card Payment",
          "Credit Card Payment",
          "Mortgage & Rent",
          "Fast Food",
          "Movies & DVDs",
          "Gas & Fuel",
          "Shopping",
          "Utilities",
          "Groceries",
          "Music",
          "Paycheck",
          "Alcohol & Bars",
          "Fast Food",
          "Groceries",
          "Groceries",
          "Restaurants",
          "Groceries",
          "Groceries",
          "Groceries",
          "Mobile Phone",
          "Utilities",
          "Utilities",
          "Alcohol & Bars",
          "Home Improvement",
          "Home Improvement",
          "Restaurants",
          "Alcohol & Bars",
          "Gas & Fuel",
          "Home Improvement",
          "Auto Insurance",
          "Credit Card Payment",
          "Groceries",
          "Home Improvement",
          "Paycheck",
          "Alcohol & Bars",
          "Internet",
          "Movies & DVDs",
          "Restaurants",
          "Credit Card Payment",
          "Credit Card Payment",
          "Credit Card Payment",
          "Groceries",
          "Groceries",
          "Restaurants",
          "Shopping",
          "Gas & Fuel",
          "Groceries",
          "Mortgage & Rent",
          "Coffee Shops",
          "Fast Food",
          "Movies & DVDs",
          "Groceries",
          "Groceries",
          "Utilities",
          "Haircut",
          "Paycheck",
          "Groceries",
          "Music",
          "Restaurants",
          "Mobile Phone",
          "Restaurants",
          "Groceries",
          "Home Improvement",
          "Utilities",
          "Food & Dining",
          "Gas & Fuel",
          "Utilities",
          "Coffee Shops",
          "Credit Card Payment",
          "Credit Card Payment",
          "Restaurants",
          "Shopping",
          "Shopping",
          "Shopping",
          "Auto Insurance",
          "Shopping",
          "Credit Card Payment",
          "Gas & Fuel",
          "Credit Card Payment",
          "Paycheck",
          "Fast Food",
          "Home Improvement",
          "Home Improvement",
          "Home Improvement",
          "Fast Food",
          "Gas & Fuel",
          "Gas & Fuel",
          "Internet",
          "Shopping",
          "Alcohol & Bars",
          "Alcohol & Bars",
          "Credit Card Payment",
          "Groceries",
          "Shopping",
          "Credit Card Payment",
          "Mortgage & Rent",
          "Shopping",
          "Paycheck",
          "Restaurants",
          "Utilities",
          "Credit Card Payment",
          "Credit Card Payment",
          "Credit Card Payment",
          "Music",
          "Groceries",
          "Haircut",
          "Mobile Phone",
          "Gas & Fuel",
          "Groceries",
          "Utilities",
          "Utilities",
          "Auto Insurance",
          "Paycheck",
          "Credit Card Payment",
          "Credit Card Payment",
          "Groceries",
          "Shopping",
          "Shopping",
          "Internet",
          "Credit Card Payment",
          "Gas & Fuel",
          "Paycheck",
          "Restaurants",
          "Shopping",
          "Home Improvement",
          "Television",
          "Mortgage & Rent",
          "Utilities",
          "Coffee Shops",
          "Restaurants",
          "Music",
          "Coffee Shops",
          "Credit Card Payment",
          "Gas & Fuel",
          "Groceries",
          "Mobile Phone",
          "Groceries",
          "Credit Card Payment",
          "Credit Card Payment",
          "Groceries",
          "Paycheck",
          "Utilities",
          "Alcohol & Bars",
          "Restaurants",
          "Shopping",
          "Credit Card Payment",
          "Utilities",
          "Auto Insurance",
          "Credit Card Payment",
          "Haircut",
          "Credit Card Payment",
          "Groceries",
          "Gas & Fuel",
          "Internet",
          "Restaurants",
          "Groceries",
          "Paycheck",
          "Shopping",
          "Groceries",
          "Mortgage & Rent",
          "Television",
          "Restaurants",
          "Credit Card Payment",
          "Gas & Fuel",
          "Shopping",
          "Utilities",
          "Music",
          "Mobile Phone",
          "Restaurants",
          "Credit Card Payment",
          "Credit Card Payment",
          "Credit Card Payment",
          "Credit Card Payment",
          "Restaurants",
          "Paycheck",
          "Utilities",
          "Electronics & Software",
          "Groceries",
          "Shopping",
          "Utilities",
          "Auto Insurance",
          "Gas & Fuel",
          "Coffee Shops",
          "Internet",
          "Shopping",
          "Alcohol & Bars",
          "Groceries",
          "Paycheck",
          "Coffee Shops",
          "Credit Card Payment",
          "Credit Card Payment",
          "Credit Card Payment",
          "Shopping",
          "Mortgage & Rent",
          "Groceries",
          "Shopping",
          "Television",
          "Shopping",
          "Utilities",
          "Credit Card Payment",
          "Groceries",
          "Haircut",
          "Music",
          "Mobile Phone",
          "Electronics & Software",
          "Groceries",
          "Paycheck",
          "Gas & Fuel",
          "Groceries",
          "Restaurants",
          "Utilities",
          "Utilities",
          "Auto Insurance",
          "Credit Card Payment",
          "Credit Card Payment",
          "Credit Card Payment",
          "Groceries",
          "Alcohol & Bars",
          "Restaurants",
          "Home Improvement",
          "Internet",
          "Paycheck",
          "Alcohol & Bars",
          "Credit Card Payment",
          "Restaurants",
          "Credit Card Payment",
          "Groceries",
          "Gas & Fuel",
          "Shopping",
          "Mortgage & Rent",
          "Credit Card Payment",
          "Television",
          "Shopping",
          "Shopping",
          "Electronics & Software",
          "Music",
          "Shopping",
          "Utilities",
          "Electronics & Software",
          "Mobile Phone",
          "Paycheck",
          "Credit Card Payment",
          "Gas & Fuel",
          "Restaurants",
          "Restaurants",
          "Groceries",
          "Utilities",
          "Credit Card Payment",
          "Utilities",
          "Auto Insurance",
          "Credit Card Payment",
          "Restaurants",
          "Credit Card Payment",
          "Home Improvement",
          "Paycheck",
          "Restaurants",
          "Gas & Fuel",
          "Home Improvement",
          "Restaurants",
          "Credit Card Payment",
          "Internet",
          "Restaurants",
          "Shopping",
          "Coffee Shops",
          "Credit Card Payment",
          "Mortgage & Rent",
          "Haircut",
          "Television",
          "Groceries",
          "Restaurants",
          "Coffee Shops",
          "Groceries",
          "Credit Card Payment",
          "Paycheck",
          "Utilities",
          "Music",
          "Mobile Phone",
          "Credit Card Payment",
          "Credit Card Payment",
          "Groceries",
          "Gas & Fuel",
          "Utilities",
          "Utilities",
          "Alcohol & Bars",
          "Gas & Fuel",
          "Auto Insurance",
          "Credit Card Payment",
          "Home Improvement",
          "Credit Card Payment",
          "Credit Card Payment",
          "Paycheck",
          "Alcohol & Bars",
          "Gas & Fuel",
          "Internet",
          "Coffee Shops",
          "Groceries",
          "Restaurants",
          "Restaurants",
          "Shopping",
          "Home Improvement",
          "Mortgage & Rent",
          "Television",
          "Alcohol & Bars",
          "Paycheck",
          "Credit Card Payment",
          "Groceries",
          "Restaurants",
          "Home Improvement",
          "Credit Card Payment",
          "Credit Card Payment",
          "Credit Card Payment",
          "Music",
          "Mobile Phone",
          "Utilities",
          "Groceries",
          "Shopping",
          "Utilities",
          "Utilities",
          "Auto Insurance",
          "Credit Card Payment",
          "Gas & Fuel",
          "Groceries",
          "Restaurants",
          "Credit Card Payment",
          "Paycheck",
          "Restaurants",
          "Credit Card Payment",
          "Restaurants",
          "Credit Card Payment",
          "Coffee Shops",
          "Haircut",
          "Home Improvement",
          "Groceries",
          "Restaurants",
          "Groceries",
          "Internet",
          "Shopping",
          "Mortgage & Rent",
          "Paycheck",
          "Gas & Fuel",
          "Groceries",
          "Restaurants",
          "Television",
          "Alcohol & Bars",
          "Credit Card Payment",
          "Credit Card Payment",
          "Credit Card Payment",
          "Credit Card Payment",
          "Home Improvement",
          "Groceries",
          "Music",
          "Utilities",
          "Mobile Phone",
          "Restaurants",
          "Coffee Shops",
          "Credit Card Payment",
          "Utilities",
          "Paycheck",
          "Utilities",
          "Credit Card Payment",
          "Groceries",
          "Haircut",
          "Restaurants",
          "Credit Card Payment",
          "Auto Insurance",
          "Coffee Shops",
          "Gas & Fuel",
          "Coffee Shops",
          "Restaurants",
          "Home Improvement",
          "Coffee Shops",
          "Coffee Shops",
          "Internet",
          "Paycheck",
          "Home Improvement",
          "Restaurants",
          "Shopping",
          "Mortgage & Rent",
          "Restaurants",
          "Television",
          "Coffee Shops",
          "Credit Card Payment",
          "Credit Card Payment",
          "Credit Card Payment",
          "Alcohol & Bars",
          "Alcohol & Bars",
          "Gas & Fuel",
          "Groceries",
          "Home Improvement",
          "Music",
          "Utilities",
          "Credit Card Payment",
          "Mobile Phone",
          "Credit Card Payment",
          "Coffee Shops",
          "Paycheck",
          "Groceries",
          "Shopping",
          "Credit Card Payment",
          "Credit Card Payment",
          "Utilities",
          "Credit Card Payment",
          "Utilities",
          "Auto Insurance",
          "Credit Card Payment",
          "Alcohol & Bars",
          "Coffee Shops",
          "Credit Card Payment",
          "Restaurants",
          "Credit Card Payment",
          "Groceries",
          "Shopping",
          "Paycheck",
          "Gas & Fuel",
          "Gas & Fuel",
          "Coffee Shops",
          "Internet"
         ],
         "legendgroup": "",
         "name": "",
         "showlegend": true,
         "type": "pie",
         "values": [
          11.11,
          1247.44,
          24.22,
          2298.09,
          11.76,
          25.85,
          18.45,
          45,
          15.38,
          10.69,
          89.46,
          34.87,
          43.54,
          2000,
          32.91,
          39.05,
          44.19,
          64.11,
          35,
          60,
          2000,
          50.21,
          554.99,
          309.81,
          554.99,
          17.38,
          309.81,
          3,
          69.99,
          30.42,
          25,
          17.62,
          27.79,
          11.11,
          1247.44,
          2000,
          57.02,
          11.76,
          145.14,
          154.13,
          154.13,
          65,
          30,
          10.69,
          10.66,
          106.8,
          36.47,
          89.52,
          14,
          10,
          60,
          2000,
          8,
          35,
          35.95,
          23.51,
          2,
          4,
          765.37,
          156.11,
          765.37,
          74.99,
          85.52,
          32.21,
          156.11,
          32.07,
          13.13,
          1247.44,
          2000,
          23.74,
          10.69,
          11.76,
          42.24,
          3,
          761.59,
          761.59,
          3.5,
          34.9,
          52,
          20.72,
          5.09,
          10.69,
          19.35,
          89.52,
          45.75,
          22.5,
          8.49,
          3.5,
          60,
          2000,
          19.5,
          23.34,
          36.48,
          35,
          14.97,
          30.55,
          559.91,
          559.91,
          11.76,
          74.99,
          16.06,
          24.98,
          17.64,
          9.09,
          2000,
          38.32,
          24.74,
          41.16,
          80.79,
          59.48,
          13.13,
          817.14,
          817.14,
          82.36,
          13.89,
          1247.44,
          6.41,
          363.08,
          363.08,
          11.76,
          4.58,
          9.76,
          22,
          6.48,
          10.69,
          30,
          89.52,
          7,
          30,
          37.98,
          2000,
          10.66,
          11.61,
          41,
          75,
          35,
          60,
          24.22,
          4.32,
          35.15,
          21.32,
          42.7,
          224.7,
          41.34,
          210.79,
          74.99,
          769.72,
          1216.94,
          1216.94,
          769.72,
          2000,
          22.98,
          39,
          51.05,
          68.47,
          5.09,
          13.13,
          1247.44,
          49.72,
          42.23,
          11.76,
          7.27,
          20.52,
          22.37,
          117.69,
          601.4,
          601.4,
          10.69,
          30,
          111.18,
          57.32,
          2000,
          8000,
          27.77,
          33.3,
          78,
          67.63,
          60,
          29,
          35,
          75,
          6.41,
          207.08,
          31,
          23.26,
          283.07,
          26.04,
          32.5,
          283.07,
          39.44,
          74.99,
          2000,
          9.62,
          91.03,
          20,
          6.25,
          38.63,
          6.11,
          13.13,
          235.18,
          466.36,
          65.81,
          235.18,
          24.12,
          1247.44,
          11.76,
          4,
          2000,
          30,
          16.18,
          9.56,
          10.69,
          46.01,
          12.55,
          89.46,
          283.44,
          283.44,
          7.02,
          60,
          3,
          22.66,
          13.9,
          35,
          38.52,
          2.69,
          75,
          89.45,
          30,
          89.45,
          2000,
          8.5,
          74.97,
          942.76,
          942.76,
          74.99,
          9.62,
          3.5,
          22.66,
          7.57,
          13.13,
          1247.44,
          25,
          36.44,
          34.48,
          11.76,
          44.25,
          212.32,
          6.41,
          2000,
          259.87,
          242.16,
          259.87,
          10.69,
          242.16,
          5.39,
          30,
          89.46,
          33.51,
          36.24,
          15.23,
          35,
          60,
          28.54,
          75,
          61.43,
          102.88,
          102.88,
          2000,
          28.93,
          30,
          61.43,
          9.58,
          26.59,
          74.99,
          33.67,
          7.61,
          34.38,
          6.6,
          13.13,
          816.27,
          40.44,
          1247.44,
          6.27,
          2000,
          11.76,
          76.47,
          10.69,
          30,
          89.4,
          13.67,
          33.66,
          269.56,
          159.38,
          41.07,
          5.64,
          60,
          269.56,
          35,
          2000,
          14.98,
          23.47,
          75,
          34.18,
          99.76,
          99.76,
          34.18,
          42.31,
          74.99,
          35.65,
          11.64,
          2000,
          47.4,
          13.13,
          109.83,
          687.29,
          687.29,
          1247.44,
          11.76,
          30,
          18,
          10.69,
          38.86,
          7.87,
          47.16,
          89.4,
          5.64,
          134.34,
          2000,
          10.17,
          8.8,
          35,
          4.32,
          60,
          75,
          30,
          47.38,
          69.4,
          6.83,
          74.99,
          48.64,
          5,
          38,
          40.71,
          128.12,
          284.96,
          284.96,
          13.36,
          2000,
          23.26,
          46.7,
          3,
          128.12,
          15.66,
          13.13,
          124.03,
          124.03,
          1209.18,
          11.76,
          27,
          38.06,
          80.65,
          31.2,
          10.69,
          19.98,
          30,
          53.68,
          89.4,
          2000,
          60,
          35,
          75,
          33.55,
          45.24,
          8,
          544.37,
          353.83,
          353.83,
          34.66,
          7.57,
          74.99,
          29.98,
          2000,
          25.4,
          12.71,
          14.75,
          92.49,
          54,
          5.64,
          13.13,
          262.51,
          262.51,
          1209.18,
          23.66,
          11.76,
          36.51,
          53.95,
          30,
          5.64,
          10.69,
          2000,
          27,
          14.19,
          24.4,
          10.18,
          22.33,
          4.8,
          37.43,
          10.15,
          89.54,
          60,
          35,
          22.8,
          15.47,
          6.4,
          23.26,
          20,
          29.15,
          10.02,
          75,
          421.96,
          5.64,
          37.41,
          2000,
          16.8,
          74.99,
          17,
          28.4,
          582.99,
          751.5,
          582.99,
          6.27,
          5.64,
          8,
          13.13,
          30.03,
          148.15,
          1209.18,
          3,
          20.65,
          11.76,
          21.38,
          13.48,
          40,
          30,
          2000,
          12.64,
          10.69,
          10.29,
          89.54,
          27,
          21.39,
          17.1,
          60,
          63,
          20.01,
          35,
          3,
          311.02,
          311.02,
          56.52,
          49.99,
          41.72,
          24.3,
          75,
          43.01,
          464.03,
          30.38,
          464.03,
          2000,
          21.38,
          22.14,
          28,
          38.4,
          56.07,
          32.47,
          7.48,
          75.99,
          44.99,
          12,
          14,
          860.05,
          55.04,
          13.09,
          499.6,
          1100,
          42.1,
          2000,
          23.49,
          45,
          491.45,
          491.45,
          281.84,
          10.69,
          58.79,
          30,
          65,
          28.92,
          6.06,
          35,
          60,
          75,
          2000,
          277.99,
          277.99,
          21.06,
          11.7,
          4.21,
          75,
          1900,
          31.32,
          2000,
          9.47,
          13.09,
          86.97,
          11.76,
          1100,
          65,
          3,
          27.47,
          10.69,
          3,
          133.95,
          24.01,
          30.54,
          65,
          8.21,
          207.47,
          207.47,
          4.59,
          2000,
          60,
          8,
          32.75,
          37.45,
          574.84,
          35,
          75,
          292.54,
          30,
          292.54,
          46.96,
          33.8,
          75,
          25.77,
          32.07,
          2000,
          13.09,
          92.04,
          1100,
          11.76,
          7,
          491.86,
          34.08,
          27.17,
          49,
          10.69,
          65,
          3.02,
          532.86,
          301.79,
          305.27,
          301.79,
          8,
          2000,
          60,
          320.99,
          16.23,
          13.84,
          35,
          75,
          37.51,
          5.2,
          75,
          16.04,
          49.63,
          4.46,
          2000,
          12.84,
          957.6,
          1552.65,
          600.51,
          13.09,
          1100,
          5.64,
          35.9,
          11.76,
          27.54,
          30,
          436.75,
          10.7,
          30,
          10.69,
          65,
          44.93,
          41.34,
          2000,
          38.94,
          16.87,
          20.64,
          60,
          35,
          75,
          604.32,
          458.1,
          604.32,
          10.89,
          14.4,
          64.52,
          29.56,
          75,
          2000,
          40,
          268.96,
          14.74,
          268.96,
          5.64,
          39.08,
          13.09,
          1100,
          758.07,
          13.9,
          16.94,
          38.56,
          331.69,
          10.69,
          3.2,
          30,
          21.39,
          65,
          2000,
          480.88,
          35.24,
          98.19,
          23.11,
          2.02,
          60,
          575.33,
          35,
          75,
          415.47,
          32.53,
          765.68,
          27.96,
          2000,
          8,
          36.76,
          30.99,
          34.33,
          765.68,
          75,
          34.82,
          13.09,
          2.75,
          260.95,
          1100,
          30,
          13.9,
          23,
          23.24,
          3.75,
          5.64,
          458.56,
          2000,
          30,
          10.69,
          65,
          152.72,
          152.72,
          10.69,
          33.16,
          35,
          60,
          15,
          41.83,
          75,
          375.26,
          9200,
          100.68,
          100.68,
          2000,
          15,
          30.64,
          75,
          7,
          99.47,
          24.97,
          24,
          13.09,
          229.9,
          1100,
          13.9,
          19,
          2250,
          220.08,
          92.98,
          23.26,
          103.14,
          305.28,
          220.08,
          549.72,
          10.69,
          65,
          30,
          87.14,
          89.99,
          60,
          35,
          75,
          814.5,
          36.42,
          29.83,
          8.82,
          115.52,
          2250,
          28,
          257.08,
          26.67,
          257.08,
          2.5,
          30,
          44.31,
          5.35,
          44.92,
          15.77,
          75,
          13.09,
          1100,
          2250,
          36.36,
          3.96,
          23.47,
          13.9,
          18,
          349.28,
          117.65,
          521.17,
          117.65,
          125,
          11.72,
          10.69,
          30,
          65,
          26.67,
          2.75,
          335.2,
          60,
          2250,
          35,
          87.17,
          33.15,
          19,
          3.5,
          1248.95,
          75,
          2.75,
          34.69,
          2.75,
          39.43,
          66.75,
          3,
          2.75,
          75,
          2250,
          68.04,
          41.78,
          13.09,
          1100,
          41.24,
          13.9,
          3.75,
          1390.37,
          1390.37,
          502.75,
          12.87,
          19.3,
          28.77,
          65.09,
          26.25,
          10.69,
          30,
          360.56,
          65,
          360.56,
          2.75,
          2250,
          46.44,
          47.66,
          90.57,
          90.57,
          35,
          186.13,
          60,
          75,
          1606.46,
          40.81,
          2.75,
          9.43,
          131.1,
          9.43,
          27.71,
          24.63,
          2250,
          33.46,
          4.27,
          1.75,
          75
         ]
        }
       ],
       "layout": {
        "legend": {
         "tracegroupgap": 0
        },
        "margin": {
         "t": 60
        },
        "template": {
         "data": {
          "bar": [
           {
            "error_x": {
             "color": "#2a3f5f"
            },
            "error_y": {
             "color": "#2a3f5f"
            },
            "marker": {
             "line": {
              "color": "#E5ECF6",
              "width": 0.5
             },
             "pattern": {
              "fillmode": "overlay",
              "size": 10,
              "solidity": 0.2
             }
            },
            "type": "bar"
           }
          ],
          "barpolar": [
           {
            "marker": {
             "line": {
              "color": "#E5ECF6",
              "width": 0.5
             },
             "pattern": {
              "fillmode": "overlay",
              "size": 10,
              "solidity": 0.2
             }
            },
            "type": "barpolar"
           }
          ],
          "carpet": [
           {
            "aaxis": {
             "endlinecolor": "#2a3f5f",
             "gridcolor": "white",
             "linecolor": "white",
             "minorgridcolor": "white",
             "startlinecolor": "#2a3f5f"
            },
            "baxis": {
             "endlinecolor": "#2a3f5f",
             "gridcolor": "white",
             "linecolor": "white",
             "minorgridcolor": "white",
             "startlinecolor": "#2a3f5f"
            },
            "type": "carpet"
           }
          ],
          "choropleth": [
           {
            "colorbar": {
             "outlinewidth": 0,
             "ticks": ""
            },
            "type": "choropleth"
           }
          ],
          "contour": [
           {
            "colorbar": {
             "outlinewidth": 0,
             "ticks": ""
            },
            "colorscale": [
             [
              0,
              "#0d0887"
             ],
             [
              0.1111111111111111,
              "#46039f"
             ],
             [
              0.2222222222222222,
              "#7201a8"
             ],
             [
              0.3333333333333333,
              "#9c179e"
             ],
             [
              0.4444444444444444,
              "#bd3786"
             ],
             [
              0.5555555555555556,
              "#d8576b"
             ],
             [
              0.6666666666666666,
              "#ed7953"
             ],
             [
              0.7777777777777778,
              "#fb9f3a"
             ],
             [
              0.8888888888888888,
              "#fdca26"
             ],
             [
              1,
              "#f0f921"
             ]
            ],
            "type": "contour"
           }
          ],
          "contourcarpet": [
           {
            "colorbar": {
             "outlinewidth": 0,
             "ticks": ""
            },
            "type": "contourcarpet"
           }
          ],
          "heatmap": [
           {
            "colorbar": {
             "outlinewidth": 0,
             "ticks": ""
            },
            "colorscale": [
             [
              0,
              "#0d0887"
             ],
             [
              0.1111111111111111,
              "#46039f"
             ],
             [
              0.2222222222222222,
              "#7201a8"
             ],
             [
              0.3333333333333333,
              "#9c179e"
             ],
             [
              0.4444444444444444,
              "#bd3786"
             ],
             [
              0.5555555555555556,
              "#d8576b"
             ],
             [
              0.6666666666666666,
              "#ed7953"
             ],
             [
              0.7777777777777778,
              "#fb9f3a"
             ],
             [
              0.8888888888888888,
              "#fdca26"
             ],
             [
              1,
              "#f0f921"
             ]
            ],
            "type": "heatmap"
           }
          ],
          "heatmapgl": [
           {
            "colorbar": {
             "outlinewidth": 0,
             "ticks": ""
            },
            "colorscale": [
             [
              0,
              "#0d0887"
             ],
             [
              0.1111111111111111,
              "#46039f"
             ],
             [
              0.2222222222222222,
              "#7201a8"
             ],
             [
              0.3333333333333333,
              "#9c179e"
             ],
             [
              0.4444444444444444,
              "#bd3786"
             ],
             [
              0.5555555555555556,
              "#d8576b"
             ],
             [
              0.6666666666666666,
              "#ed7953"
             ],
             [
              0.7777777777777778,
              "#fb9f3a"
             ],
             [
              0.8888888888888888,
              "#fdca26"
             ],
             [
              1,
              "#f0f921"
             ]
            ],
            "type": "heatmapgl"
           }
          ],
          "histogram": [
           {
            "marker": {
             "pattern": {
              "fillmode": "overlay",
              "size": 10,
              "solidity": 0.2
             }
            },
            "type": "histogram"
           }
          ],
          "histogram2d": [
           {
            "colorbar": {
             "outlinewidth": 0,
             "ticks": ""
            },
            "colorscale": [
             [
              0,
              "#0d0887"
             ],
             [
              0.1111111111111111,
              "#46039f"
             ],
             [
              0.2222222222222222,
              "#7201a8"
             ],
             [
              0.3333333333333333,
              "#9c179e"
             ],
             [
              0.4444444444444444,
              "#bd3786"
             ],
             [
              0.5555555555555556,
              "#d8576b"
             ],
             [
              0.6666666666666666,
              "#ed7953"
             ],
             [
              0.7777777777777778,
              "#fb9f3a"
             ],
             [
              0.8888888888888888,
              "#fdca26"
             ],
             [
              1,
              "#f0f921"
             ]
            ],
            "type": "histogram2d"
           }
          ],
          "histogram2dcontour": [
           {
            "colorbar": {
             "outlinewidth": 0,
             "ticks": ""
            },
            "colorscale": [
             [
              0,
              "#0d0887"
             ],
             [
              0.1111111111111111,
              "#46039f"
             ],
             [
              0.2222222222222222,
              "#7201a8"
             ],
             [
              0.3333333333333333,
              "#9c179e"
             ],
             [
              0.4444444444444444,
              "#bd3786"
             ],
             [
              0.5555555555555556,
              "#d8576b"
             ],
             [
              0.6666666666666666,
              "#ed7953"
             ],
             [
              0.7777777777777778,
              "#fb9f3a"
             ],
             [
              0.8888888888888888,
              "#fdca26"
             ],
             [
              1,
              "#f0f921"
             ]
            ],
            "type": "histogram2dcontour"
           }
          ],
          "mesh3d": [
           {
            "colorbar": {
             "outlinewidth": 0,
             "ticks": ""
            },
            "type": "mesh3d"
           }
          ],
          "parcoords": [
           {
            "line": {
             "colorbar": {
              "outlinewidth": 0,
              "ticks": ""
             }
            },
            "type": "parcoords"
           }
          ],
          "pie": [
           {
            "automargin": true,
            "type": "pie"
           }
          ],
          "scatter": [
           {
            "fillpattern": {
             "fillmode": "overlay",
             "size": 10,
             "solidity": 0.2
            },
            "type": "scatter"
           }
          ],
          "scatter3d": [
           {
            "line": {
             "colorbar": {
              "outlinewidth": 0,
              "ticks": ""
             }
            },
            "marker": {
             "colorbar": {
              "outlinewidth": 0,
              "ticks": ""
             }
            },
            "type": "scatter3d"
           }
          ],
          "scattercarpet": [
           {
            "marker": {
             "colorbar": {
              "outlinewidth": 0,
              "ticks": ""
             }
            },
            "type": "scattercarpet"
           }
          ],
          "scattergeo": [
           {
            "marker": {
             "colorbar": {
              "outlinewidth": 0,
              "ticks": ""
             }
            },
            "type": "scattergeo"
           }
          ],
          "scattergl": [
           {
            "marker": {
             "colorbar": {
              "outlinewidth": 0,
              "ticks": ""
             }
            },
            "type": "scattergl"
           }
          ],
          "scattermapbox": [
           {
            "marker": {
             "colorbar": {
              "outlinewidth": 0,
              "ticks": ""
             }
            },
            "type": "scattermapbox"
           }
          ],
          "scatterpolar": [
           {
            "marker": {
             "colorbar": {
              "outlinewidth": 0,
              "ticks": ""
             }
            },
            "type": "scatterpolar"
           }
          ],
          "scatterpolargl": [
           {
            "marker": {
             "colorbar": {
              "outlinewidth": 0,
              "ticks": ""
             }
            },
            "type": "scatterpolargl"
           }
          ],
          "scatterternary": [
           {
            "marker": {
             "colorbar": {
              "outlinewidth": 0,
              "ticks": ""
             }
            },
            "type": "scatterternary"
           }
          ],
          "surface": [
           {
            "colorbar": {
             "outlinewidth": 0,
             "ticks": ""
            },
            "colorscale": [
             [
              0,
              "#0d0887"
             ],
             [
              0.1111111111111111,
              "#46039f"
             ],
             [
              0.2222222222222222,
              "#7201a8"
             ],
             [
              0.3333333333333333,
              "#9c179e"
             ],
             [
              0.4444444444444444,
              "#bd3786"
             ],
             [
              0.5555555555555556,
              "#d8576b"
             ],
             [
              0.6666666666666666,
              "#ed7953"
             ],
             [
              0.7777777777777778,
              "#fb9f3a"
             ],
             [
              0.8888888888888888,
              "#fdca26"
             ],
             [
              1,
              "#f0f921"
             ]
            ],
            "type": "surface"
           }
          ],
          "table": [
           {
            "cells": {
             "fill": {
              "color": "#EBF0F8"
             },
             "line": {
              "color": "white"
             }
            },
            "header": {
             "fill": {
              "color": "#C8D4E3"
             },
             "line": {
              "color": "white"
             }
            },
            "type": "table"
           }
          ]
         },
         "layout": {
          "annotationdefaults": {
           "arrowcolor": "#2a3f5f",
           "arrowhead": 0,
           "arrowwidth": 1
          },
          "autotypenumbers": "strict",
          "coloraxis": {
           "colorbar": {
            "outlinewidth": 0,
            "ticks": ""
           }
          },
          "colorscale": {
           "diverging": [
            [
             0,
             "#8e0152"
            ],
            [
             0.1,
             "#c51b7d"
            ],
            [
             0.2,
             "#de77ae"
            ],
            [
             0.3,
             "#f1b6da"
            ],
            [
             0.4,
             "#fde0ef"
            ],
            [
             0.5,
             "#f7f7f7"
            ],
            [
             0.6,
             "#e6f5d0"
            ],
            [
             0.7,
             "#b8e186"
            ],
            [
             0.8,
             "#7fbc41"
            ],
            [
             0.9,
             "#4d9221"
            ],
            [
             1,
             "#276419"
            ]
           ],
           "sequential": [
            [
             0,
             "#0d0887"
            ],
            [
             0.1111111111111111,
             "#46039f"
            ],
            [
             0.2222222222222222,
             "#7201a8"
            ],
            [
             0.3333333333333333,
             "#9c179e"
            ],
            [
             0.4444444444444444,
             "#bd3786"
            ],
            [
             0.5555555555555556,
             "#d8576b"
            ],
            [
             0.6666666666666666,
             "#ed7953"
            ],
            [
             0.7777777777777778,
             "#fb9f3a"
            ],
            [
             0.8888888888888888,
             "#fdca26"
            ],
            [
             1,
             "#f0f921"
            ]
           ],
           "sequentialminus": [
            [
             0,
             "#0d0887"
            ],
            [
             0.1111111111111111,
             "#46039f"
            ],
            [
             0.2222222222222222,
             "#7201a8"
            ],
            [
             0.3333333333333333,
             "#9c179e"
            ],
            [
             0.4444444444444444,
             "#bd3786"
            ],
            [
             0.5555555555555556,
             "#d8576b"
            ],
            [
             0.6666666666666666,
             "#ed7953"
            ],
            [
             0.7777777777777778,
             "#fb9f3a"
            ],
            [
             0.8888888888888888,
             "#fdca26"
            ],
            [
             1,
             "#f0f921"
            ]
           ]
          },
          "colorway": [
           "#636efa",
           "#EF553B",
           "#00cc96",
           "#ab63fa",
           "#FFA15A",
           "#19d3f3",
           "#FF6692",
           "#B6E880",
           "#FF97FF",
           "#FECB52"
          ],
          "font": {
           "color": "#2a3f5f"
          },
          "geo": {
           "bgcolor": "white",
           "lakecolor": "white",
           "landcolor": "#E5ECF6",
           "showlakes": true,
           "showland": true,
           "subunitcolor": "white"
          },
          "hoverlabel": {
           "align": "left"
          },
          "hovermode": "closest",
          "mapbox": {
           "style": "light"
          },
          "paper_bgcolor": "white",
          "plot_bgcolor": "#E5ECF6",
          "polar": {
           "angularaxis": {
            "gridcolor": "white",
            "linecolor": "white",
            "ticks": ""
           },
           "bgcolor": "#E5ECF6",
           "radialaxis": {
            "gridcolor": "white",
            "linecolor": "white",
            "ticks": ""
           }
          },
          "scene": {
           "xaxis": {
            "backgroundcolor": "#E5ECF6",
            "gridcolor": "white",
            "gridwidth": 2,
            "linecolor": "white",
            "showbackground": true,
            "ticks": "",
            "zerolinecolor": "white"
           },
           "yaxis": {
            "backgroundcolor": "#E5ECF6",
            "gridcolor": "white",
            "gridwidth": 2,
            "linecolor": "white",
            "showbackground": true,
            "ticks": "",
            "zerolinecolor": "white"
           },
           "zaxis": {
            "backgroundcolor": "#E5ECF6",
            "gridcolor": "white",
            "gridwidth": 2,
            "linecolor": "white",
            "showbackground": true,
            "ticks": "",
            "zerolinecolor": "white"
           }
          },
          "shapedefaults": {
           "line": {
            "color": "#2a3f5f"
           }
          },
          "ternary": {
           "aaxis": {
            "gridcolor": "white",
            "linecolor": "white",
            "ticks": ""
           },
           "baxis": {
            "gridcolor": "white",
            "linecolor": "white",
            "ticks": ""
           },
           "bgcolor": "#E5ECF6",
           "caxis": {
            "gridcolor": "white",
            "linecolor": "white",
            "ticks": ""
           }
          },
          "title": {
           "x": 0.05
          },
          "xaxis": {
           "automargin": true,
           "gridcolor": "white",
           "linecolor": "white",
           "ticks": "",
           "title": {
            "standoff": 15
           },
           "zerolinecolor": "white",
           "zerolinewidth": 2
          },
          "yaxis": {
           "automargin": true,
           "gridcolor": "white",
           "linecolor": "white",
           "ticks": "",
           "title": {
            "standoff": 15
           },
           "zerolinecolor": "white",
           "zerolinewidth": 2
          }
         }
        }
       }
      }
     },
     "metadata": {},
     "output_type": "display_data"
    }
   ],
   "source": [
    "# Visualizing the Data 1 #\n",
    "\n",
    "import plotly.express as px\n",
    "fig = px.pie(data, values=\"Amount\", names=\"Category\")\n",
    "fig.show()\n"
   ]
  },
  {
   "cell_type": "code",
   "execution_count": 23,
   "metadata": {},
   "outputs": [
    {
     "data": {
      "application/vnd.plotly.v1+json": {
       "config": {
        "plotlyServerURL": "https://plot.ly"
       },
       "data": [
        {
         "alignmentgroup": "True",
         "bingroup": "x",
         "histfunc": "sum",
         "hovertemplate": "Year=2018<br>Month=%{x}<br>sum of Amount=%{y}<extra></extra>",
         "legendgroup": "2018",
         "marker": {
          "color": "#636efa",
          "pattern": {
           "shape": ""
          }
         },
         "name": "2018",
         "offsetgroup": "2018",
         "orientation": "v",
         "showlegend": true,
         "type": "histogram",
         "x": [
          1,
          1,
          1,
          1,
          1,
          1,
          1,
          1,
          1,
          1,
          1,
          1,
          1,
          1,
          1,
          1,
          1,
          1,
          1,
          1,
          1,
          1,
          1,
          1,
          1,
          1,
          1,
          1,
          1,
          1,
          1,
          1,
          2,
          2,
          2,
          2,
          2,
          2,
          2,
          2,
          2,
          2,
          2,
          2,
          2,
          2,
          2,
          2,
          2,
          2,
          2,
          2,
          2,
          2,
          2,
          2,
          2,
          2,
          2,
          2,
          2,
          2,
          2,
          2,
          2,
          3,
          3,
          3,
          3,
          3,
          3,
          3,
          3,
          3,
          3,
          3,
          3,
          3,
          3,
          3,
          3,
          3,
          3,
          3,
          3,
          3,
          3,
          3,
          3,
          3,
          3,
          3,
          3,
          3,
          3,
          3,
          3,
          3,
          3,
          3,
          3,
          3,
          3,
          3,
          3,
          3,
          3,
          3,
          4,
          4,
          4,
          4,
          4,
          4,
          4,
          4,
          4,
          4,
          4,
          4,
          4,
          4,
          4,
          4,
          4,
          4,
          4,
          4,
          4,
          4,
          4,
          4,
          4,
          4,
          4,
          4,
          4,
          4,
          4,
          4,
          4,
          4,
          4,
          4,
          4,
          4,
          4,
          4,
          4,
          4,
          4,
          4,
          4,
          4,
          4,
          4,
          5,
          5,
          5,
          5,
          5,
          5,
          5,
          5,
          5,
          5,
          5,
          5,
          5,
          5,
          5,
          5,
          5,
          5,
          5,
          5,
          5,
          5,
          5,
          5,
          5,
          5,
          5,
          5,
          5,
          5,
          5,
          5,
          5,
          5,
          5,
          5,
          5,
          5,
          5,
          5,
          6,
          6,
          6,
          6,
          6,
          6,
          6,
          6,
          6,
          6,
          6,
          6,
          6,
          6,
          6,
          6,
          6,
          6,
          6,
          6,
          6,
          6,
          6,
          6,
          6,
          6,
          6,
          6,
          6,
          6,
          6,
          6,
          6,
          6,
          6,
          6,
          6,
          6,
          6,
          6,
          6,
          6,
          6,
          7,
          7,
          7,
          7,
          7,
          7,
          7,
          7,
          7,
          7,
          7,
          7,
          7,
          7,
          7,
          7,
          7,
          7,
          7,
          7,
          7,
          7,
          7,
          7,
          7,
          7,
          7,
          7,
          7,
          7,
          7,
          7,
          7,
          7,
          7,
          7,
          7,
          7,
          7,
          8,
          8,
          8,
          8,
          8,
          8,
          8,
          8,
          8,
          8,
          8,
          8,
          8,
          8,
          8,
          8,
          8,
          8,
          8,
          8,
          8,
          8,
          8,
          8,
          8,
          8,
          8,
          8,
          8,
          8,
          8,
          8,
          8,
          9,
          9,
          9,
          9,
          9,
          9,
          9,
          9,
          9,
          9,
          9,
          9,
          9,
          9,
          9,
          9,
          9,
          9,
          9,
          9,
          9,
          9,
          9,
          9,
          9,
          9,
          9,
          9,
          9,
          9,
          9,
          9,
          9,
          9,
          9,
          9,
          9,
          9,
          9,
          10,
          10,
          10,
          10,
          10,
          10,
          10,
          10,
          10,
          10,
          10,
          10,
          10,
          10,
          10,
          10,
          10,
          10,
          10,
          10,
          10,
          10,
          10,
          10,
          10,
          10,
          10,
          10,
          10,
          10,
          10,
          10,
          10,
          10,
          10,
          10,
          10,
          10,
          11,
          11,
          11,
          11,
          11,
          11,
          11,
          11,
          11,
          11,
          11,
          11,
          11,
          11,
          11,
          11,
          11,
          11,
          11,
          11,
          11,
          11,
          11,
          11,
          11,
          11,
          11,
          11,
          11,
          11,
          11,
          11,
          11,
          11,
          11,
          11,
          11,
          11,
          11,
          11,
          11,
          11,
          11,
          12,
          12,
          12,
          12,
          12,
          12,
          12,
          12,
          12,
          12,
          12,
          12,
          12,
          12,
          12,
          12,
          12,
          12,
          12,
          12,
          12,
          12,
          12,
          12,
          12,
          12,
          12,
          12,
          12,
          12,
          12,
          12,
          12,
          12,
          12,
          12,
          12,
          12,
          12,
          12,
          12,
          12,
          12,
          12,
          12,
          12,
          12,
          12,
          12,
          12,
          12
         ],
         "xaxis": "x",
         "y": [
          11.11,
          1247.44,
          24.22,
          2298.09,
          11.76,
          25.85,
          18.45,
          45,
          15.38,
          10.69,
          89.46,
          34.87,
          43.54,
          2000,
          32.91,
          39.05,
          44.19,
          64.11,
          35,
          60,
          2000,
          50.21,
          554.99,
          309.81,
          554.99,
          17.38,
          309.81,
          3,
          69.99,
          30.42,
          25,
          17.62,
          27.79,
          11.11,
          1247.44,
          2000,
          57.02,
          11.76,
          145.14,
          154.13,
          154.13,
          65,
          30,
          10.69,
          10.66,
          106.8,
          36.47,
          89.52,
          14,
          10,
          60,
          2000,
          8,
          35,
          35.95,
          23.51,
          2,
          4,
          765.37,
          156.11,
          765.37,
          74.99,
          85.52,
          32.21,
          156.11,
          32.07,
          13.13,
          1247.44,
          2000,
          23.74,
          10.69,
          11.76,
          42.24,
          3,
          761.59,
          761.59,
          3.5,
          34.9,
          52,
          20.72,
          5.09,
          10.69,
          19.35,
          89.52,
          45.75,
          22.5,
          8.49,
          3.5,
          60,
          2000,
          19.5,
          23.34,
          36.48,
          35,
          14.97,
          30.55,
          559.91,
          559.91,
          11.76,
          74.99,
          16.06,
          24.98,
          17.64,
          9.09,
          2000,
          38.32,
          24.74,
          41.16,
          80.79,
          59.48,
          13.13,
          817.14,
          817.14,
          82.36,
          13.89,
          1247.44,
          6.41,
          363.08,
          363.08,
          11.76,
          4.58,
          9.76,
          22,
          6.48,
          10.69,
          30,
          89.52,
          7,
          30,
          37.98,
          2000,
          10.66,
          11.61,
          41,
          75,
          35,
          60,
          24.22,
          4.32,
          35.15,
          21.32,
          42.7,
          224.7,
          41.34,
          210.79,
          74.99,
          769.72,
          1216.94,
          1216.94,
          769.72,
          2000,
          22.98,
          39,
          51.05,
          68.47,
          5.09,
          13.13,
          1247.44,
          49.72,
          42.23,
          11.76,
          7.27,
          20.52,
          22.37,
          117.69,
          601.4,
          601.4,
          10.69,
          30,
          111.18,
          57.32,
          2000,
          8000,
          27.77,
          33.3,
          78,
          67.63,
          60,
          29,
          35,
          75,
          6.41,
          207.08,
          31,
          23.26,
          283.07,
          26.04,
          32.5,
          283.07,
          39.44,
          74.99,
          2000,
          9.62,
          91.03,
          20,
          6.25,
          38.63,
          6.11,
          13.13,
          235.18,
          466.36,
          65.81,
          235.18,
          24.12,
          1247.44,
          11.76,
          4,
          2000,
          30,
          16.18,
          9.56,
          10.69,
          46.01,
          12.55,
          89.46,
          283.44,
          283.44,
          7.02,
          60,
          3,
          22.66,
          13.9,
          35,
          38.52,
          2.69,
          75,
          89.45,
          30,
          89.45,
          2000,
          8.5,
          74.97,
          942.76,
          942.76,
          74.99,
          9.62,
          3.5,
          22.66,
          7.57,
          13.13,
          1247.44,
          25,
          36.44,
          34.48,
          11.76,
          44.25,
          212.32,
          6.41,
          2000,
          259.87,
          242.16,
          259.87,
          10.69,
          242.16,
          5.39,
          30,
          89.46,
          33.51,
          36.24,
          15.23,
          35,
          60,
          28.54,
          75,
          61.43,
          102.88,
          102.88,
          2000,
          28.93,
          30,
          61.43,
          9.58,
          26.59,
          74.99,
          33.67,
          7.61,
          34.38,
          6.6,
          13.13,
          816.27,
          40.44,
          1247.44,
          6.27,
          2000,
          11.76,
          76.47,
          10.69,
          30,
          89.4,
          13.67,
          33.66,
          269.56,
          159.38,
          41.07,
          5.64,
          60,
          269.56,
          35,
          2000,
          14.98,
          23.47,
          75,
          34.18,
          99.76,
          99.76,
          34.18,
          42.31,
          74.99,
          35.65,
          11.64,
          2000,
          47.4,
          13.13,
          109.83,
          687.29,
          687.29,
          1247.44,
          11.76,
          30,
          18,
          10.69,
          38.86,
          7.87,
          47.16,
          89.4,
          5.64,
          134.34,
          2000,
          10.17,
          8.8,
          35,
          4.32,
          60,
          75,
          30,
          47.38,
          69.4,
          6.83,
          74.99,
          48.64,
          5,
          38,
          40.71,
          128.12,
          284.96,
          284.96,
          13.36,
          2000,
          23.26,
          46.7,
          3,
          128.12,
          15.66,
          13.13,
          124.03,
          124.03,
          1209.18,
          11.76,
          27,
          38.06,
          80.65,
          31.2,
          10.69,
          19.98,
          30,
          53.68,
          89.4,
          2000,
          60,
          35,
          75,
          33.55,
          45.24,
          8,
          544.37,
          353.83,
          353.83,
          34.66,
          7.57,
          74.99,
          29.98,
          2000,
          25.4,
          12.71,
          14.75,
          92.49,
          54,
          5.64,
          13.13,
          262.51,
          262.51,
          1209.18,
          23.66,
          11.76,
          36.51,
          53.95,
          30,
          5.64,
          10.69,
          2000,
          27,
          14.19,
          24.4,
          10.18,
          22.33,
          4.8,
          37.43,
          10.15,
          89.54,
          60,
          35,
          22.8,
          15.47,
          6.4,
          23.26,
          20,
          29.15,
          10.02,
          75,
          421.96,
          5.64,
          37.41,
          2000,
          16.8,
          74.99,
          17,
          28.4,
          582.99,
          751.5,
          582.99,
          6.27,
          5.64,
          8,
          13.13,
          30.03,
          148.15,
          1209.18,
          3,
          20.65,
          11.76,
          21.38,
          13.48,
          40,
          30,
          2000,
          12.64,
          10.69,
          10.29,
          89.54,
          27,
          21.39,
          17.1,
          60,
          63,
          20.01,
          35,
          3,
          311.02,
          311.02,
          56.52,
          49.99,
          41.72,
          24.3,
          75,
          43.01,
          464.03,
          30.38,
          464.03,
          2000,
          21.38,
          22.14,
          28,
          38.4,
          56.07,
          32.47,
          7.48,
          75.99,
          44.99,
          12,
          14,
          860.05,
          55.04
         ],
         "yaxis": "y"
        },
        {
         "alignmentgroup": "True",
         "bingroup": "x",
         "histfunc": "sum",
         "hovertemplate": "Year=2019<br>Month=%{x}<br>sum of Amount=%{y}<extra></extra>",
         "legendgroup": "2019",
         "marker": {
          "color": "#EF553B",
          "pattern": {
           "shape": ""
          }
         },
         "name": "2019",
         "offsetgroup": "2019",
         "orientation": "v",
         "showlegend": true,
         "type": "histogram",
         "x": [
          1,
          1,
          1,
          1,
          1,
          1,
          1,
          1,
          1,
          1,
          1,
          1,
          1,
          1,
          1,
          1,
          1,
          1,
          1,
          1,
          1,
          1,
          1,
          1,
          1,
          1,
          1,
          1,
          2,
          2,
          2,
          2,
          2,
          2,
          2,
          2,
          2,
          2,
          2,
          2,
          2,
          2,
          2,
          2,
          2,
          2,
          2,
          2,
          2,
          2,
          2,
          2,
          2,
          2,
          2,
          2,
          2,
          2,
          2,
          2,
          2,
          2,
          2,
          3,
          3,
          3,
          3,
          3,
          3,
          3,
          3,
          3,
          3,
          3,
          3,
          3,
          3,
          3,
          3,
          3,
          3,
          3,
          3,
          3,
          3,
          3,
          3,
          3,
          3,
          3,
          3,
          3,
          3,
          3,
          3,
          3,
          3,
          4,
          4,
          4,
          4,
          4,
          4,
          4,
          4,
          4,
          4,
          4,
          4,
          4,
          4,
          4,
          4,
          4,
          4,
          4,
          4,
          4,
          4,
          4,
          4,
          4,
          4,
          4,
          4,
          4,
          4,
          4,
          4,
          4,
          4,
          4,
          4,
          4,
          4,
          5,
          5,
          5,
          5,
          5,
          5,
          5,
          5,
          5,
          5,
          5,
          5,
          5,
          5,
          5,
          5,
          5,
          5,
          5,
          5,
          5,
          5,
          5,
          5,
          5,
          5,
          5,
          5,
          5,
          5,
          5,
          5,
          5,
          5,
          6,
          6,
          6,
          6,
          6,
          6,
          6,
          6,
          6,
          6,
          6,
          6,
          6,
          6,
          6,
          6,
          6,
          6,
          6,
          6,
          6,
          6,
          6,
          6,
          6,
          6,
          6,
          6,
          6,
          6,
          6,
          6,
          7,
          7,
          7,
          7,
          7,
          7,
          7,
          7,
          7,
          7,
          7,
          7,
          7,
          7,
          7,
          7,
          7,
          7,
          7,
          7,
          7,
          7,
          7,
          7,
          7,
          7,
          7,
          7,
          7,
          7,
          7,
          7,
          7,
          7,
          7,
          7,
          7,
          7,
          7,
          7,
          7,
          7,
          8,
          8,
          8,
          8,
          8,
          8,
          8,
          8,
          8,
          8,
          8,
          8,
          8,
          8,
          8,
          8,
          8,
          8,
          8,
          8,
          8,
          8,
          8,
          8,
          8,
          8,
          8,
          8,
          8,
          8,
          8,
          8,
          8,
          8,
          8,
          8,
          8,
          8,
          8,
          8,
          9,
          9,
          9,
          9,
          9,
          9,
          9,
          9,
          9,
          9,
          9,
          9,
          9,
          9,
          9,
          9,
          9,
          9,
          9,
          9,
          9,
          9,
          9,
          9,
          9,
          9,
          9,
          9,
          9,
          9,
          9,
          9,
          9,
          9,
          9,
          9,
          9,
          9,
          9,
          9,
          9
         ],
         "xaxis": "x",
         "y": [
          13.09,
          499.6,
          1100,
          42.1,
          2000,
          23.49,
          45,
          491.45,
          491.45,
          281.84,
          10.69,
          58.79,
          30,
          65,
          28.92,
          6.06,
          35,
          60,
          75,
          2000,
          277.99,
          277.99,
          21.06,
          11.7,
          4.21,
          75,
          1900,
          31.32,
          2000,
          9.47,
          13.09,
          86.97,
          11.76,
          1100,
          65,
          3,
          27.47,
          10.69,
          3,
          133.95,
          24.01,
          30.54,
          65,
          8.21,
          207.47,
          207.47,
          4.59,
          2000,
          60,
          8,
          32.75,
          37.45,
          574.84,
          35,
          75,
          292.54,
          30,
          292.54,
          46.96,
          33.8,
          75,
          25.77,
          32.07,
          2000,
          13.09,
          92.04,
          1100,
          11.76,
          7,
          491.86,
          34.08,
          27.17,
          49,
          10.69,
          65,
          3.02,
          532.86,
          301.79,
          305.27,
          301.79,
          8,
          2000,
          60,
          320.99,
          16.23,
          13.84,
          35,
          75,
          37.51,
          5.2,
          75,
          16.04,
          49.63,
          4.46,
          2000,
          12.84,
          957.6,
          1552.65,
          600.51,
          13.09,
          1100,
          5.64,
          35.9,
          11.76,
          27.54,
          30,
          436.75,
          10.7,
          30,
          10.69,
          65,
          44.93,
          41.34,
          2000,
          38.94,
          16.87,
          20.64,
          60,
          35,
          75,
          604.32,
          458.1,
          604.32,
          10.89,
          14.4,
          64.52,
          29.56,
          75,
          2000,
          40,
          268.96,
          14.74,
          268.96,
          5.64,
          39.08,
          13.09,
          1100,
          758.07,
          13.9,
          16.94,
          38.56,
          331.69,
          10.69,
          3.2,
          30,
          21.39,
          65,
          2000,
          480.88,
          35.24,
          98.19,
          23.11,
          2.02,
          60,
          575.33,
          35,
          75,
          415.47,
          32.53,
          765.68,
          27.96,
          2000,
          8,
          36.76,
          30.99,
          34.33,
          765.68,
          75,
          34.82,
          13.09,
          2.75,
          260.95,
          1100,
          30,
          13.9,
          23,
          23.24,
          3.75,
          5.64,
          458.56,
          2000,
          30,
          10.69,
          65,
          152.72,
          152.72,
          10.69,
          33.16,
          35,
          60,
          15,
          41.83,
          75,
          375.26,
          9200,
          100.68,
          100.68,
          2000,
          15,
          30.64,
          75,
          7,
          99.47,
          24.97,
          24,
          13.09,
          229.9,
          1100,
          13.9,
          19,
          2250,
          220.08,
          92.98,
          23.26,
          103.14,
          305.28,
          220.08,
          549.72,
          10.69,
          65,
          30,
          87.14,
          89.99,
          60,
          35,
          75,
          814.5,
          36.42,
          29.83,
          8.82,
          115.52,
          2250,
          28,
          257.08,
          26.67,
          257.08,
          2.5,
          30,
          44.31,
          5.35,
          44.92,
          15.77,
          75,
          13.09,
          1100,
          2250,
          36.36,
          3.96,
          23.47,
          13.9,
          18,
          349.28,
          117.65,
          521.17,
          117.65,
          125,
          11.72,
          10.69,
          30,
          65,
          26.67,
          2.75,
          335.2,
          60,
          2250,
          35,
          87.17,
          33.15,
          19,
          3.5,
          1248.95,
          75,
          2.75,
          34.69,
          2.75,
          39.43,
          66.75,
          3,
          2.75,
          75,
          2250,
          68.04,
          41.78,
          13.09,
          1100,
          41.24,
          13.9,
          3.75,
          1390.37,
          1390.37,
          502.75,
          12.87,
          19.3,
          28.77,
          65.09,
          26.25,
          10.69,
          30,
          360.56,
          65,
          360.56,
          2.75,
          2250,
          46.44,
          47.66,
          90.57,
          90.57,
          35,
          186.13,
          60,
          75,
          1606.46,
          40.81,
          2.75,
          9.43,
          131.1,
          9.43,
          27.71,
          24.63,
          2250,
          33.46,
          4.27,
          1.75,
          75
         ],
         "yaxis": "y"
        }
       ],
       "layout": {
        "barmode": "group",
        "height": 400,
        "legend": {
         "title": {
          "text": "Year"
         },
         "tracegroupgap": 0
        },
        "margin": {
         "t": 60
        },
        "template": {
         "data": {
          "bar": [
           {
            "error_x": {
             "color": "#2a3f5f"
            },
            "error_y": {
             "color": "#2a3f5f"
            },
            "marker": {
             "line": {
              "color": "#E5ECF6",
              "width": 0.5
             },
             "pattern": {
              "fillmode": "overlay",
              "size": 10,
              "solidity": 0.2
             }
            },
            "type": "bar"
           }
          ],
          "barpolar": [
           {
            "marker": {
             "line": {
              "color": "#E5ECF6",
              "width": 0.5
             },
             "pattern": {
              "fillmode": "overlay",
              "size": 10,
              "solidity": 0.2
             }
            },
            "type": "barpolar"
           }
          ],
          "carpet": [
           {
            "aaxis": {
             "endlinecolor": "#2a3f5f",
             "gridcolor": "white",
             "linecolor": "white",
             "minorgridcolor": "white",
             "startlinecolor": "#2a3f5f"
            },
            "baxis": {
             "endlinecolor": "#2a3f5f",
             "gridcolor": "white",
             "linecolor": "white",
             "minorgridcolor": "white",
             "startlinecolor": "#2a3f5f"
            },
            "type": "carpet"
           }
          ],
          "choropleth": [
           {
            "colorbar": {
             "outlinewidth": 0,
             "ticks": ""
            },
            "type": "choropleth"
           }
          ],
          "contour": [
           {
            "colorbar": {
             "outlinewidth": 0,
             "ticks": ""
            },
            "colorscale": [
             [
              0,
              "#0d0887"
             ],
             [
              0.1111111111111111,
              "#46039f"
             ],
             [
              0.2222222222222222,
              "#7201a8"
             ],
             [
              0.3333333333333333,
              "#9c179e"
             ],
             [
              0.4444444444444444,
              "#bd3786"
             ],
             [
              0.5555555555555556,
              "#d8576b"
             ],
             [
              0.6666666666666666,
              "#ed7953"
             ],
             [
              0.7777777777777778,
              "#fb9f3a"
             ],
             [
              0.8888888888888888,
              "#fdca26"
             ],
             [
              1,
              "#f0f921"
             ]
            ],
            "type": "contour"
           }
          ],
          "contourcarpet": [
           {
            "colorbar": {
             "outlinewidth": 0,
             "ticks": ""
            },
            "type": "contourcarpet"
           }
          ],
          "heatmap": [
           {
            "colorbar": {
             "outlinewidth": 0,
             "ticks": ""
            },
            "colorscale": [
             [
              0,
              "#0d0887"
             ],
             [
              0.1111111111111111,
              "#46039f"
             ],
             [
              0.2222222222222222,
              "#7201a8"
             ],
             [
              0.3333333333333333,
              "#9c179e"
             ],
             [
              0.4444444444444444,
              "#bd3786"
             ],
             [
              0.5555555555555556,
              "#d8576b"
             ],
             [
              0.6666666666666666,
              "#ed7953"
             ],
             [
              0.7777777777777778,
              "#fb9f3a"
             ],
             [
              0.8888888888888888,
              "#fdca26"
             ],
             [
              1,
              "#f0f921"
             ]
            ],
            "type": "heatmap"
           }
          ],
          "heatmapgl": [
           {
            "colorbar": {
             "outlinewidth": 0,
             "ticks": ""
            },
            "colorscale": [
             [
              0,
              "#0d0887"
             ],
             [
              0.1111111111111111,
              "#46039f"
             ],
             [
              0.2222222222222222,
              "#7201a8"
             ],
             [
              0.3333333333333333,
              "#9c179e"
             ],
             [
              0.4444444444444444,
              "#bd3786"
             ],
             [
              0.5555555555555556,
              "#d8576b"
             ],
             [
              0.6666666666666666,
              "#ed7953"
             ],
             [
              0.7777777777777778,
              "#fb9f3a"
             ],
             [
              0.8888888888888888,
              "#fdca26"
             ],
             [
              1,
              "#f0f921"
             ]
            ],
            "type": "heatmapgl"
           }
          ],
          "histogram": [
           {
            "marker": {
             "pattern": {
              "fillmode": "overlay",
              "size": 10,
              "solidity": 0.2
             }
            },
            "type": "histogram"
           }
          ],
          "histogram2d": [
           {
            "colorbar": {
             "outlinewidth": 0,
             "ticks": ""
            },
            "colorscale": [
             [
              0,
              "#0d0887"
             ],
             [
              0.1111111111111111,
              "#46039f"
             ],
             [
              0.2222222222222222,
              "#7201a8"
             ],
             [
              0.3333333333333333,
              "#9c179e"
             ],
             [
              0.4444444444444444,
              "#bd3786"
             ],
             [
              0.5555555555555556,
              "#d8576b"
             ],
             [
              0.6666666666666666,
              "#ed7953"
             ],
             [
              0.7777777777777778,
              "#fb9f3a"
             ],
             [
              0.8888888888888888,
              "#fdca26"
             ],
             [
              1,
              "#f0f921"
             ]
            ],
            "type": "histogram2d"
           }
          ],
          "histogram2dcontour": [
           {
            "colorbar": {
             "outlinewidth": 0,
             "ticks": ""
            },
            "colorscale": [
             [
              0,
              "#0d0887"
             ],
             [
              0.1111111111111111,
              "#46039f"
             ],
             [
              0.2222222222222222,
              "#7201a8"
             ],
             [
              0.3333333333333333,
              "#9c179e"
             ],
             [
              0.4444444444444444,
              "#bd3786"
             ],
             [
              0.5555555555555556,
              "#d8576b"
             ],
             [
              0.6666666666666666,
              "#ed7953"
             ],
             [
              0.7777777777777778,
              "#fb9f3a"
             ],
             [
              0.8888888888888888,
              "#fdca26"
             ],
             [
              1,
              "#f0f921"
             ]
            ],
            "type": "histogram2dcontour"
           }
          ],
          "mesh3d": [
           {
            "colorbar": {
             "outlinewidth": 0,
             "ticks": ""
            },
            "type": "mesh3d"
           }
          ],
          "parcoords": [
           {
            "line": {
             "colorbar": {
              "outlinewidth": 0,
              "ticks": ""
             }
            },
            "type": "parcoords"
           }
          ],
          "pie": [
           {
            "automargin": true,
            "type": "pie"
           }
          ],
          "scatter": [
           {
            "fillpattern": {
             "fillmode": "overlay",
             "size": 10,
             "solidity": 0.2
            },
            "type": "scatter"
           }
          ],
          "scatter3d": [
           {
            "line": {
             "colorbar": {
              "outlinewidth": 0,
              "ticks": ""
             }
            },
            "marker": {
             "colorbar": {
              "outlinewidth": 0,
              "ticks": ""
             }
            },
            "type": "scatter3d"
           }
          ],
          "scattercarpet": [
           {
            "marker": {
             "colorbar": {
              "outlinewidth": 0,
              "ticks": ""
             }
            },
            "type": "scattercarpet"
           }
          ],
          "scattergeo": [
           {
            "marker": {
             "colorbar": {
              "outlinewidth": 0,
              "ticks": ""
             }
            },
            "type": "scattergeo"
           }
          ],
          "scattergl": [
           {
            "marker": {
             "colorbar": {
              "outlinewidth": 0,
              "ticks": ""
             }
            },
            "type": "scattergl"
           }
          ],
          "scattermapbox": [
           {
            "marker": {
             "colorbar": {
              "outlinewidth": 0,
              "ticks": ""
             }
            },
            "type": "scattermapbox"
           }
          ],
          "scatterpolar": [
           {
            "marker": {
             "colorbar": {
              "outlinewidth": 0,
              "ticks": ""
             }
            },
            "type": "scatterpolar"
           }
          ],
          "scatterpolargl": [
           {
            "marker": {
             "colorbar": {
              "outlinewidth": 0,
              "ticks": ""
             }
            },
            "type": "scatterpolargl"
           }
          ],
          "scatterternary": [
           {
            "marker": {
             "colorbar": {
              "outlinewidth": 0,
              "ticks": ""
             }
            },
            "type": "scatterternary"
           }
          ],
          "surface": [
           {
            "colorbar": {
             "outlinewidth": 0,
             "ticks": ""
            },
            "colorscale": [
             [
              0,
              "#0d0887"
             ],
             [
              0.1111111111111111,
              "#46039f"
             ],
             [
              0.2222222222222222,
              "#7201a8"
             ],
             [
              0.3333333333333333,
              "#9c179e"
             ],
             [
              0.4444444444444444,
              "#bd3786"
             ],
             [
              0.5555555555555556,
              "#d8576b"
             ],
             [
              0.6666666666666666,
              "#ed7953"
             ],
             [
              0.7777777777777778,
              "#fb9f3a"
             ],
             [
              0.8888888888888888,
              "#fdca26"
             ],
             [
              1,
              "#f0f921"
             ]
            ],
            "type": "surface"
           }
          ],
          "table": [
           {
            "cells": {
             "fill": {
              "color": "#EBF0F8"
             },
             "line": {
              "color": "white"
             }
            },
            "header": {
             "fill": {
              "color": "#C8D4E3"
             },
             "line": {
              "color": "white"
             }
            },
            "type": "table"
           }
          ]
         },
         "layout": {
          "annotationdefaults": {
           "arrowcolor": "#2a3f5f",
           "arrowhead": 0,
           "arrowwidth": 1
          },
          "autotypenumbers": "strict",
          "coloraxis": {
           "colorbar": {
            "outlinewidth": 0,
            "ticks": ""
           }
          },
          "colorscale": {
           "diverging": [
            [
             0,
             "#8e0152"
            ],
            [
             0.1,
             "#c51b7d"
            ],
            [
             0.2,
             "#de77ae"
            ],
            [
             0.3,
             "#f1b6da"
            ],
            [
             0.4,
             "#fde0ef"
            ],
            [
             0.5,
             "#f7f7f7"
            ],
            [
             0.6,
             "#e6f5d0"
            ],
            [
             0.7,
             "#b8e186"
            ],
            [
             0.8,
             "#7fbc41"
            ],
            [
             0.9,
             "#4d9221"
            ],
            [
             1,
             "#276419"
            ]
           ],
           "sequential": [
            [
             0,
             "#0d0887"
            ],
            [
             0.1111111111111111,
             "#46039f"
            ],
            [
             0.2222222222222222,
             "#7201a8"
            ],
            [
             0.3333333333333333,
             "#9c179e"
            ],
            [
             0.4444444444444444,
             "#bd3786"
            ],
            [
             0.5555555555555556,
             "#d8576b"
            ],
            [
             0.6666666666666666,
             "#ed7953"
            ],
            [
             0.7777777777777778,
             "#fb9f3a"
            ],
            [
             0.8888888888888888,
             "#fdca26"
            ],
            [
             1,
             "#f0f921"
            ]
           ],
           "sequentialminus": [
            [
             0,
             "#0d0887"
            ],
            [
             0.1111111111111111,
             "#46039f"
            ],
            [
             0.2222222222222222,
             "#7201a8"
            ],
            [
             0.3333333333333333,
             "#9c179e"
            ],
            [
             0.4444444444444444,
             "#bd3786"
            ],
            [
             0.5555555555555556,
             "#d8576b"
            ],
            [
             0.6666666666666666,
             "#ed7953"
            ],
            [
             0.7777777777777778,
             "#fb9f3a"
            ],
            [
             0.8888888888888888,
             "#fdca26"
            ],
            [
             1,
             "#f0f921"
            ]
           ]
          },
          "colorway": [
           "#636efa",
           "#EF553B",
           "#00cc96",
           "#ab63fa",
           "#FFA15A",
           "#19d3f3",
           "#FF6692",
           "#B6E880",
           "#FF97FF",
           "#FECB52"
          ],
          "font": {
           "color": "#2a3f5f"
          },
          "geo": {
           "bgcolor": "white",
           "lakecolor": "white",
           "landcolor": "#E5ECF6",
           "showlakes": true,
           "showland": true,
           "subunitcolor": "white"
          },
          "hoverlabel": {
           "align": "left"
          },
          "hovermode": "closest",
          "mapbox": {
           "style": "light"
          },
          "paper_bgcolor": "white",
          "plot_bgcolor": "#E5ECF6",
          "polar": {
           "angularaxis": {
            "gridcolor": "white",
            "linecolor": "white",
            "ticks": ""
           },
           "bgcolor": "#E5ECF6",
           "radialaxis": {
            "gridcolor": "white",
            "linecolor": "white",
            "ticks": ""
           }
          },
          "scene": {
           "xaxis": {
            "backgroundcolor": "#E5ECF6",
            "gridcolor": "white",
            "gridwidth": 2,
            "linecolor": "white",
            "showbackground": true,
            "ticks": "",
            "zerolinecolor": "white"
           },
           "yaxis": {
            "backgroundcolor": "#E5ECF6",
            "gridcolor": "white",
            "gridwidth": 2,
            "linecolor": "white",
            "showbackground": true,
            "ticks": "",
            "zerolinecolor": "white"
           },
           "zaxis": {
            "backgroundcolor": "#E5ECF6",
            "gridcolor": "white",
            "gridwidth": 2,
            "linecolor": "white",
            "showbackground": true,
            "ticks": "",
            "zerolinecolor": "white"
           }
          },
          "shapedefaults": {
           "line": {
            "color": "#2a3f5f"
           }
          },
          "ternary": {
           "aaxis": {
            "gridcolor": "white",
            "linecolor": "white",
            "ticks": ""
           },
           "baxis": {
            "gridcolor": "white",
            "linecolor": "white",
            "ticks": ""
           },
           "bgcolor": "#E5ECF6",
           "caxis": {
            "gridcolor": "white",
            "linecolor": "white",
            "ticks": ""
           }
          },
          "title": {
           "x": 0.05
          },
          "xaxis": {
           "automargin": true,
           "gridcolor": "white",
           "linecolor": "white",
           "ticks": "",
           "title": {
            "standoff": 15
           },
           "zerolinecolor": "white",
           "zerolinewidth": 2
          },
          "yaxis": {
           "automargin": true,
           "gridcolor": "white",
           "linecolor": "white",
           "ticks": "",
           "title": {
            "standoff": 15
           },
           "zerolinecolor": "white",
           "zerolinewidth": 2
          }
         }
        },
        "xaxis": {
         "anchor": "y",
         "domain": [
          0,
          1
         ],
         "title": {
          "text": "Month"
         }
        },
        "yaxis": {
         "anchor": "x",
         "domain": [
          0,
          1
         ],
         "title": {
          "text": "sum of Amount"
         }
        }
       }
      }
     },
     "metadata": {},
     "output_type": "display_data"
    }
   ],
   "source": [
    "# Visualizing the Data 2 #\n",
    "\n",
    "fig = px.histogram(data, x=\"Month\", y=\"Amount\",\n",
    "                  color='Year', barmode='group',\n",
    "                  height=400)\n",
    "fig.show()\n"
   ]
  },
  {
   "cell_type": "code",
   "execution_count": 24,
   "metadata": {},
   "outputs": [
    {
     "data": {
      "application/vnd.plotly.v1+json": {
       "config": {
        "plotlyServerURL": "https://plot.ly"
       },
       "data": [
        {
         "hovertemplate": "Date=%{x}<br>Amount=%{y}<extra></extra>",
         "legendgroup": "",
         "line": {
          "color": "#636efa",
          "dash": "solid"
         },
         "marker": {
          "symbol": "circle"
         },
         "mode": "lines",
         "name": "",
         "orientation": "v",
         "showlegend": false,
         "type": "scatter",
         "x": [
          "01-01-2018",
          "01-02-2018",
          "01-02-2018",
          "01-03-2018",
          "01-04-2018",
          "01-05-2018",
          "01-06-2018",
          "01-08-2018",
          "01-08-2018",
          "01-09-2018",
          "01-10-2018",
          "01-11-2018",
          "01-11-2018",
          "01-12-2018",
          "01-13-2018",
          "01-13-2018",
          "01-15-2018",
          "01-15-2018",
          "01-16-2018",
          "01-16-2018",
          "01/19/2018",
          "01/20/2018",
          "01/22/2018",
          "01/22/2018",
          "01/22/2018",
          "01/22/2018",
          "01/23/2018",
          "01/24/2018",
          "01/25/2018",
          "01/29/2018",
          "01/29/2018",
          "01/29/2018",
          "02-01-2018",
          "02-01-2018",
          "02-02-2018",
          "02-02-2018",
          "02-03-2018",
          "02-04-2018",
          "02-05-2018",
          "02-06-2018",
          "02-07-2018",
          "02-07-2018",
          "02-09-2018",
          "02-09-2018",
          "02-10-2018",
          "02-11-2018",
          "02-12-2018",
          "02-12-2018",
          "02/14/2018",
          "02/15/2018",
          "02/15/2018",
          "02/16/2018",
          "02/16/2018",
          "02/16/2018",
          "02/20/2018",
          "02/20/2018",
          "02/21/2018",
          "02/22/2018",
          "02/26/2018",
          "02/26/2018",
          "02/26/2018",
          "02/26/2018",
          "02/26/2018",
          "02/26/2018",
          "02/27/2018",
          "03-01-2018",
          "03-01-2018",
          "03-02-2018",
          "03-02-2018",
          "03-03-2018",
          "03-04-2018",
          "03-04-2018",
          "03-04-2018",
          "03-05-2018",
          "03-05-2018",
          "03-05-2018",
          "03-07-2018",
          "03-08-2018",
          "03-08-2018",
          "03-09-2018",
          "03-09-2018",
          "03-09-2018",
          "03-12-2018",
          "03-12-2018",
          "03/13/2018",
          "03/14/2018",
          "03/14/2018",
          "03/15/2018",
          "03/15/2018",
          "03/16/2018",
          "03/17/2018",
          "03/17/2018",
          "03/19/2018",
          "03/19/2018",
          "03/20/2018",
          "03/22/2018",
          "03/23/2018",
          "03/23/2018",
          "03/23/2018",
          "03/26/2018",
          "03/28/2018",
          "03/28/2018",
          "03/29/2018",
          "03/30/2018",
          "03/30/2018",
          "03/31/2018",
          "03/31/2018",
          "03/31/2018",
          "04-01-2018",
          "04-01-2018",
          "04-01-2018",
          "04-02-2018",
          "04-02-2018",
          "04-02-2018",
          "04-02-2018",
          "04-02-2018",
          "04-03-2018",
          "04-04-2018",
          "04-04-2018",
          "04-04-2018",
          "04-06-2018",
          "04-06-2018",
          "04-08-2018",
          "04-09-2018",
          "04-09-2018",
          "04-09-2018",
          "04-11-2018",
          "04-12-2018",
          "04-12-2018",
          "04/13/2018",
          "04/13/2018",
          "04/13/2018",
          "04/14/2018",
          "04/14/2018",
          "04/16/2018",
          "04/16/2018",
          "04/18/2018",
          "04/20/2018",
          "04/21/2018",
          "04/21/2018",
          "04/22/2018",
          "04/23/2018",
          "04/24/2018",
          "04/24/2018",
          "04/25/2018",
          "04/25/2018",
          "04/26/2018",
          "04/26/2018",
          "04/26/2018",
          "04/27/2018",
          "04/27/2018",
          "04/28/2018",
          "04/29/2018",
          "04/29/2018",
          "04/29/2018",
          "04/30/2018",
          "05-01-2018",
          "05-02-2018",
          "05-03-2018",
          "05-04-2018",
          "05-04-2018",
          "05-05-2018",
          "05-05-2018",
          "05-06-2018",
          "05-06-2018",
          "05-09-2018",
          "05-09-2018",
          "05-09-2018",
          "05-09-2018",
          "05-10-2018",
          "05-11-2018",
          "05-11-2018",
          "05-11-2018",
          "05-12-2018",
          "05-12-2018",
          "05-12-2018",
          "05/14/2018",
          "05/15/2018",
          "05/17/2018",
          "05/17/2018",
          "05/18/2018",
          "05/18/2018",
          "05/19/2018",
          "05/19/2018",
          "05/19/2018",
          "05/21/2018",
          "05/21/2018",
          "05/21/2018",
          "05/22/2018",
          "05/24/2018",
          "05/25/2018",
          "05/25/2018",
          "05/28/2018",
          "05/28/2018",
          "05/29/2018",
          "05/29/2018",
          "06-01-2018",
          "06-01-2018",
          "06-01-2018",
          "06-02-2018",
          "06-02-2018",
          "06-03-2018",
          "06-04-2018",
          "06-04-2018",
          "06-04-2018",
          "06-04-2018",
          "06-06-2018",
          "06-08-2018",
          "06-08-2018",
          "06-09-2018",
          "06-09-2018",
          "06-09-2018",
          "06-10-2018",
          "06-12-2018",
          "06-12-2018",
          "06/14/2018",
          "06/14/2018",
          "06/14/2018",
          "06/15/2018",
          "06/16/2018",
          "06/16/2018",
          "06/16/2018",
          "06/18/2018",
          "06/19/2018",
          "06/19/2018",
          "06/20/2018",
          "06/20/2018",
          "06/20/2018",
          "06/21/2018",
          "06/22/2018",
          "06/23/2018",
          "06/23/2018",
          "06/25/2018",
          "06/25/2018",
          "06/25/2018",
          "06/26/2018",
          "06/27/2018",
          "06/27/2018",
          "06/28/2018",
          "07-01-2018",
          "07-02-2018",
          "07-02-2018",
          "07-02-2018",
          "07-04-2018",
          "07-04-2018",
          "07-05-2018",
          "07-05-2018",
          "07-06-2018",
          "07-06-2018",
          "07-08-2018",
          "07-09-2018",
          "07-09-2018",
          "07-09-2018",
          "07-10-2018",
          "07-10-2018",
          "07-10-2018",
          "07-11-2018",
          "07/14/2018",
          "07/15/2018",
          "07/17/2018",
          "07/17/2018",
          "07/17/2018",
          "07/18/2018",
          "07/18/2018",
          "07/20/2018",
          "07/20/2018",
          "07/20/2018",
          "07/20/2018",
          "07/21/2018",
          "07/21/2018",
          "07/23/2018",
          "07/23/2018",
          "07/24/2018",
          "07/25/2018",
          "07/26/2018",
          "07/28/2018",
          "07/30/2018",
          "07/31/2018",
          "08-01-2018",
          "08-02-2018",
          "08-02-2018",
          "08-02-2018",
          "08-03-2018",
          "08-03-2018",
          "08-04-2018",
          "08-06-2018",
          "08-09-2018",
          "08-09-2018",
          "08-10-2018",
          "08-11-2018",
          "08-11-2018",
          "08/15/2018",
          "08/15/2018",
          "08/15/2018",
          "08/15/2018",
          "08/15/2018",
          "08/16/2018",
          "08/16/2018",
          "08/17/2018",
          "08/17/2018",
          "08/18/2018",
          "08/20/2018",
          "08/21/2018",
          "08/21/2018",
          "08/21/2018",
          "08/22/2018",
          "08/24/2018",
          "08/27/2018",
          "08/30/2018",
          "08/31/2018",
          "08/31/2018",
          "09-01-2018",
          "09-01-2018",
          "09-02-2018",
          "09-04-2018",
          "09-04-2018",
          "09-04-2018",
          "09-04-2018",
          "09-07-2018",
          "09-09-2018",
          "09-09-2018",
          "09-11-2018",
          "09-11-2018",
          "09-12-2018",
          "09-12-2018",
          "09/13/2018",
          "09/14/2018",
          "09/14/2018",
          "09/17/2018",
          "09/17/2018",
          "09/17/2018",
          "09/18/2018",
          "09/18/2018",
          "09/19/2018",
          "09/19/2018",
          "09/20/2018",
          "09/22/2018",
          "09/22/2018",
          "09/25/2018",
          "09/25/2018",
          "09/26/2018",
          "09/26/2018",
          "09/27/2018",
          "09/28/2018",
          "09/28/2018",
          "09/28/2018",
          "09/28/2018",
          "09/28/2018",
          "09/29/2018",
          "09/29/2018",
          "10-01-2018",
          "10-01-2018",
          "10-01-2018",
          "10-01-2018",
          "10-02-2018",
          "10-02-2018",
          "10-02-2018",
          "10-04-2018",
          "10-06-2018",
          "10-08-2018",
          "10-08-2018",
          "10-08-2018",
          "10-09-2018",
          "10-09-2018",
          "10-09-2018",
          "10-10-2018",
          "10-11-2018",
          "10-12-2018",
          "10/16/2018",
          "10/17/2018",
          "10/18/2018",
          "10/18/2018",
          "10/18/2018",
          "10/18/2018",
          "10/21/2018",
          "10/22/2018",
          "10/22/2018",
          "10/22/2018",
          "10/23/2018",
          "10/25/2018",
          "10/25/2018",
          "10/26/2018",
          "10/27/2018",
          "10/28/2018",
          "10/28/2018",
          "10/28/2018",
          "10/28/2018",
          "10/31/2018",
          "11-01-2018",
          "11-02-2018",
          "11-02-2018",
          "11-02-2018",
          "11-03-2018",
          "11-04-2018",
          "11-05-2018",
          "11-06-2018",
          "11-06-2018",
          "11-08-2018",
          "11-09-2018",
          "11-09-2018",
          "11-10-2018",
          "11-10-2018",
          "11-10-2018",
          "11-12-2018",
          "11-12-2018",
          "11/13/2018",
          "11/13/2018",
          "11/13/2018",
          "11/13/2018",
          "11/14/2018",
          "11/16/2018",
          "11/17/2018",
          "11/17/2018",
          "11/17/2018",
          "11/17/2018",
          "11/19/2018",
          "11/19/2018",
          "11/19/2018",
          "11/20/2018",
          "11/20/2018",
          "11/21/2018",
          "11/21/2018",
          "11/23/2018",
          "11/26/2018",
          "11/26/2018",
          "11/27/2018",
          "11/27/2018",
          "11/29/2018",
          "11/29/2018",
          "11/30/2018",
          "11/30/2018",
          "12-01-2018",
          "12-01-2018",
          "12-01-2018",
          "12-03-2018",
          "12-03-2018",
          "12-03-2018",
          "12-04-2018",
          "12-04-2018",
          "12-04-2018",
          "12-06-2018",
          "12-06-2018",
          "12-06-2018",
          "12-07-2018",
          "12-07-2018",
          "12-08-2018",
          "12-09-2018",
          "12-11-2018",
          "12-12-2018",
          "12/13/2018",
          "12/14/2018",
          "12/14/2018",
          "12/14/2018",
          "12/17/2018",
          "12/17/2018",
          "12/17/2018",
          "12/18/2018",
          "12/18/2018",
          "12/18/2018",
          "12/18/2018",
          "12/18/2018",
          "12/18/2018",
          "12/18/2018",
          "12/19/2018",
          "12/19/2018",
          "12/20/2018",
          "12/20/2018",
          "12/21/2018",
          "12/21/2018",
          "12/22/2018",
          "12/22/2018",
          "12/23/2018",
          "12/24/2018",
          "12/26/2018",
          "12/26/2018",
          "12/26/2018",
          "12/26/2018",
          "12/26/2018",
          "12/28/2018",
          "12/29/2018",
          "12/29/2018",
          "12/29/2018",
          "01-01-2019",
          "01-02-2019",
          "01-03-2019",
          "01-03-2019",
          "01-04-2019",
          "01-05-2019",
          "01-08-2019",
          "01-09-2019",
          "01-09-2019",
          "01-09-2019",
          "01-09-2019",
          "01-10-2019",
          "01-10-2019",
          "01-10-2019",
          "01/14/2019",
          "01/15/2019",
          "01/16/2019",
          "01/16/2019",
          "01/18/2019",
          "01/18/2019",
          "01/21/2019",
          "01/22/2019",
          "01/24/2019",
          "01/24/2019",
          "01/24/2019",
          "01/25/2019",
          "01/31/2019",
          "01/31/2019",
          "02-01-2019",
          "02-01-2019",
          "02-01-2019",
          "02-04-2019",
          "02-04-2019",
          "02-05-2019",
          "02-07-2019",
          "02-08-2019",
          "02-08-2019",
          "02-09-2019",
          "02-11-2019",
          "02-11-2019",
          "02-11-2019",
          "02-12-2019",
          "02-12-2019",
          "02/13/2019",
          "02/15/2019",
          "02/15/2019",
          "02/15/2019",
          "02/15/2019",
          "02/15/2019",
          "02/16/2019",
          "02/16/2019",
          "02/16/2019",
          "02/19/2019",
          "02/19/2019",
          "02/20/2019",
          "02/20/2019",
          "02/20/2019",
          "02/21/2019",
          "02/21/2019",
          "02/25/2019",
          "02/25/2019",
          "02/27/2019",
          "02/28/2019",
          "03-01-2019",
          "03-01-2019",
          "03-04-2019",
          "03-04-2019",
          "03-04-2019",
          "03-05-2019",
          "03-06-2019",
          "03-08-2019",
          "03-08-2019",
          "03-08-2019",
          "03-09-2019",
          "03-12-2019",
          "03-12-2019",
          "03/13/2019",
          "03/13/2019",
          "03/14/2019",
          "03/14/2019",
          "03/14/2019",
          "03/15/2019",
          "03/15/2019",
          "03/18/2019",
          "03/18/2019",
          "03/19/2019",
          "03/19/2019",
          "03/20/2019",
          "03/22/2019",
          "03/23/2019",
          "03/25/2019",
          "03/26/2019",
          "03/27/2019",
          "03/27/2019",
          "03/29/2019",
          "03/30/2019",
          "03/31/2019",
          "04-01-2019",
          "04-01-2019",
          "04-01-2019",
          "04-02-2019",
          "04-04-2019",
          "04-04-2019",
          "04-04-2019",
          "04-06-2019",
          "04-08-2019",
          "04-09-2019",
          "04-09-2019",
          "04-09-2019",
          "04-09-2019",
          "04-10-2019",
          "04-12-2019",
          "04-12-2019",
          "04-12-2019",
          "04/13/2019",
          "04/13/2019",
          "04/13/2019",
          "04/15/2019",
          "04/16/2019",
          "04/18/2019",
          "04/18/2019",
          "04/18/2019",
          "04/19/2019",
          "04/19/2019",
          "04/22/2019",
          "04/22/2019",
          "04/23/2019",
          "04/25/2019",
          "04/26/2019",
          "04/27/2019",
          "04/27/2019",
          "04/27/2019",
          "04/29/2019",
          "04/29/2019",
          "04/30/2019",
          "05-01-2019",
          "05-02-2019",
          "05-03-2019",
          "05-04-2019",
          "05-06-2019",
          "05-07-2019",
          "05-09-2019",
          "05-09-2019",
          "05-09-2019",
          "05-09-2019",
          "05-10-2019",
          "05-10-2019",
          "05-10-2019",
          "05/13/2019",
          "05/13/2019",
          "05/13/2019",
          "05/13/2019",
          "05/14/2019",
          "05/15/2019",
          "05/17/2019",
          "05/17/2019",
          "05/20/2019",
          "05/20/2019",
          "05/20/2019",
          "05/24/2019",
          "05/24/2019",
          "05/24/2019",
          "05/24/2019",
          "05/25/2019",
          "05/25/2019",
          "05/27/2019",
          "05/28/2019",
          "05/30/2019",
          "05/30/2019",
          "06-01-2019",
          "06-03-2019",
          "06-03-2019",
          "06-03-2019",
          "06-04-2019",
          "06-04-2019",
          "06-05-2019",
          "06-05-2019",
          "06-06-2019",
          "06-06-2019",
          "06-07-2019",
          "06-07-2019",
          "06-07-2019",
          "06-09-2019",
          "06-12-2019",
          "06/13/2019",
          "06/13/2019",
          "06/14/2019",
          "06/15/2019",
          "06/17/2019",
          "06/17/2019",
          "06/18/2019",
          "06/18/2019",
          "06/19/2019",
          "06/20/2019",
          "06/20/2019",
          "06/20/2019",
          "06/21/2019",
          "06/21/2019",
          "06/24/2019",
          "06/28/2019",
          "06/30/2019",
          "07-01-2019",
          "07-01-2019",
          "07-01-2019",
          "07-01-2019",
          "07-01-2019",
          "07-02-2019",
          "07-02-2019",
          "07-04-2019",
          "07-05-2019",
          "07-05-2019",
          "07-06-2019",
          "07-06-2019",
          "07-06-2019",
          "07-07-2019",
          "07-08-2019",
          "07-08-2019",
          "07-09-2019",
          "07-09-2019",
          "07-10-2019",
          "07-10-2019",
          "07/15/2019",
          "07/16/2019",
          "07/16/2019",
          "07/17/2019",
          "07/18/2019",
          "07/18/2019",
          "07/18/2019",
          "07/18/2019",
          "07/18/2019",
          "07/19/2019",
          "07/19/2019",
          "07/19/2019",
          "07/22/2019",
          "07/22/2019",
          "07/23/2019",
          "07/24/2019",
          "07/27/2019",
          "07/28/2019",
          "07/29/2019",
          "07/29/2019",
          "07/30/2019",
          "07/30/2019",
          "08-01-2019",
          "08-02-2019",
          "08-02-2019",
          "08-03-2019",
          "08-03-2019",
          "08-03-2019",
          "08-04-2019",
          "08-05-2019",
          "08-05-2019",
          "08-05-2019",
          "08-06-2019",
          "08-06-2019",
          "08-06-2019",
          "08-08-2019",
          "08-09-2019",
          "08-09-2019",
          "08-12-2019",
          "08-12-2019",
          "08/14/2019",
          "08/15/2019",
          "08/15/2019",
          "08/16/2019",
          "08/16/2019",
          "08/17/2019",
          "08/17/2019",
          "08/17/2019",
          "08/17/2019",
          "08/19/2019",
          "08/20/2019",
          "08/20/2019",
          "08/21/2019",
          "08/23/2019",
          "08/25/2019",
          "08/26/2019",
          "08/29/2019",
          "08/30/2019",
          "08/30/2019",
          "08/30/2019",
          "08/31/2019",
          "08/31/2019",
          "09-01-2019",
          "09-03-2019",
          "09-03-2019",
          "09-04-2019",
          "09-05-2019",
          "09-06-2019",
          "09-06-2019",
          "09-06-2019",
          "09-07-2019",
          "09-08-2019",
          "09-09-2019",
          "09-09-2019",
          "09-09-2019",
          "09-09-2019",
          "09-09-2019",
          "09-11-2019",
          "09-11-2019",
          "09-12-2019",
          "09/13/2019",
          "09/13/2019",
          "09/14/2019",
          "09/15/2019",
          "09/16/2019",
          "09/16/2019",
          "09/16/2019",
          "09/17/2019",
          "09/17/2019",
          "09/18/2019",
          "09/18/2019",
          "09/19/2019",
          "09/19/2019",
          "09/20/2019",
          "09/22/2019",
          "09/23/2019",
          "09/23/2019",
          "09/23/2019",
          "09/27/2019",
          "09/28/2019",
          "09/28/2019",
          "09/30/2019",
          "09/30/2019"
         ],
         "xaxis": "x",
         "y": [
          11.11,
          1247.44,
          24.22,
          2298.09,
          11.76,
          25.85,
          18.45,
          45,
          15.38,
          10.69,
          89.46,
          34.87,
          43.54,
          2000,
          32.91,
          39.05,
          44.19,
          64.11,
          35,
          60,
          2000,
          50.21,
          554.99,
          309.81,
          554.99,
          17.38,
          309.81,
          3,
          69.99,
          30.42,
          25,
          17.62,
          27.79,
          11.11,
          1247.44,
          2000,
          57.02,
          11.76,
          145.14,
          154.13,
          154.13,
          65,
          30,
          10.69,
          10.66,
          106.8,
          36.47,
          89.52,
          14,
          10,
          60,
          2000,
          8,
          35,
          35.95,
          23.51,
          2,
          4,
          765.37,
          156.11,
          765.37,
          74.99,
          85.52,
          32.21,
          156.11,
          32.07,
          13.13,
          1247.44,
          2000,
          23.74,
          10.69,
          11.76,
          42.24,
          3,
          761.59,
          761.59,
          3.5,
          34.9,
          52,
          20.72,
          5.09,
          10.69,
          19.35,
          89.52,
          45.75,
          22.5,
          8.49,
          3.5,
          60,
          2000,
          19.5,
          23.34,
          36.48,
          35,
          14.97,
          30.55,
          559.91,
          559.91,
          11.76,
          74.99,
          16.06,
          24.98,
          17.64,
          9.09,
          2000,
          38.32,
          24.74,
          41.16,
          80.79,
          59.48,
          13.13,
          817.14,
          817.14,
          82.36,
          13.89,
          1247.44,
          6.41,
          363.08,
          363.08,
          11.76,
          4.58,
          9.76,
          22,
          6.48,
          10.69,
          30,
          89.52,
          7,
          30,
          37.98,
          2000,
          10.66,
          11.61,
          41,
          75,
          35,
          60,
          24.22,
          4.32,
          35.15,
          21.32,
          42.7,
          224.7,
          41.34,
          210.79,
          74.99,
          769.72,
          1216.94,
          1216.94,
          769.72,
          2000,
          22.98,
          39,
          51.05,
          68.47,
          5.09,
          13.13,
          1247.44,
          49.72,
          42.23,
          11.76,
          7.27,
          20.52,
          22.37,
          117.69,
          601.4,
          601.4,
          10.69,
          30,
          111.18,
          57.32,
          2000,
          8000,
          27.77,
          33.3,
          78,
          67.63,
          60,
          29,
          35,
          75,
          6.41,
          207.08,
          31,
          23.26,
          283.07,
          26.04,
          32.5,
          283.07,
          39.44,
          74.99,
          2000,
          9.62,
          91.03,
          20,
          6.25,
          38.63,
          6.11,
          13.13,
          235.18,
          466.36,
          65.81,
          235.18,
          24.12,
          1247.44,
          11.76,
          4,
          2000,
          30,
          16.18,
          9.56,
          10.69,
          46.01,
          12.55,
          89.46,
          283.44,
          283.44,
          7.02,
          60,
          3,
          22.66,
          13.9,
          35,
          38.52,
          2.69,
          75,
          89.45,
          30,
          89.45,
          2000,
          8.5,
          74.97,
          942.76,
          942.76,
          74.99,
          9.62,
          3.5,
          22.66,
          7.57,
          13.13,
          1247.44,
          25,
          36.44,
          34.48,
          11.76,
          44.25,
          212.32,
          6.41,
          2000,
          259.87,
          242.16,
          259.87,
          10.69,
          242.16,
          5.39,
          30,
          89.46,
          33.51,
          36.24,
          15.23,
          35,
          60,
          28.54,
          75,
          61.43,
          102.88,
          102.88,
          2000,
          28.93,
          30,
          61.43,
          9.58,
          26.59,
          74.99,
          33.67,
          7.61,
          34.38,
          6.6,
          13.13,
          816.27,
          40.44,
          1247.44,
          6.27,
          2000,
          11.76,
          76.47,
          10.69,
          30,
          89.4,
          13.67,
          33.66,
          269.56,
          159.38,
          41.07,
          5.64,
          60,
          269.56,
          35,
          2000,
          14.98,
          23.47,
          75,
          34.18,
          99.76,
          99.76,
          34.18,
          42.31,
          74.99,
          35.65,
          11.64,
          2000,
          47.4,
          13.13,
          109.83,
          687.29,
          687.29,
          1247.44,
          11.76,
          30,
          18,
          10.69,
          38.86,
          7.87,
          47.16,
          89.4,
          5.64,
          134.34,
          2000,
          10.17,
          8.8,
          35,
          4.32,
          60,
          75,
          30,
          47.38,
          69.4,
          6.83,
          74.99,
          48.64,
          5,
          38,
          40.71,
          128.12,
          284.96,
          284.96,
          13.36,
          2000,
          23.26,
          46.7,
          3,
          128.12,
          15.66,
          13.13,
          124.03,
          124.03,
          1209.18,
          11.76,
          27,
          38.06,
          80.65,
          31.2,
          10.69,
          19.98,
          30,
          53.68,
          89.4,
          2000,
          60,
          35,
          75,
          33.55,
          45.24,
          8,
          544.37,
          353.83,
          353.83,
          34.66,
          7.57,
          74.99,
          29.98,
          2000,
          25.4,
          12.71,
          14.75,
          92.49,
          54,
          5.64,
          13.13,
          262.51,
          262.51,
          1209.18,
          23.66,
          11.76,
          36.51,
          53.95,
          30,
          5.64,
          10.69,
          2000,
          27,
          14.19,
          24.4,
          10.18,
          22.33,
          4.8,
          37.43,
          10.15,
          89.54,
          60,
          35,
          22.8,
          15.47,
          6.4,
          23.26,
          20,
          29.15,
          10.02,
          75,
          421.96,
          5.64,
          37.41,
          2000,
          16.8,
          74.99,
          17,
          28.4,
          582.99,
          751.5,
          582.99,
          6.27,
          5.64,
          8,
          13.13,
          30.03,
          148.15,
          1209.18,
          3,
          20.65,
          11.76,
          21.38,
          13.48,
          40,
          30,
          2000,
          12.64,
          10.69,
          10.29,
          89.54,
          27,
          21.39,
          17.1,
          60,
          63,
          20.01,
          35,
          3,
          311.02,
          311.02,
          56.52,
          49.99,
          41.72,
          24.3,
          75,
          43.01,
          464.03,
          30.38,
          464.03,
          2000,
          21.38,
          22.14,
          28,
          38.4,
          56.07,
          32.47,
          7.48,
          75.99,
          44.99,
          12,
          14,
          860.05,
          55.04,
          13.09,
          499.6,
          1100,
          42.1,
          2000,
          23.49,
          45,
          491.45,
          491.45,
          281.84,
          10.69,
          58.79,
          30,
          65,
          28.92,
          6.06,
          35,
          60,
          75,
          2000,
          277.99,
          277.99,
          21.06,
          11.7,
          4.21,
          75,
          1900,
          31.32,
          2000,
          9.47,
          13.09,
          86.97,
          11.76,
          1100,
          65,
          3,
          27.47,
          10.69,
          3,
          133.95,
          24.01,
          30.54,
          65,
          8.21,
          207.47,
          207.47,
          4.59,
          2000,
          60,
          8,
          32.75,
          37.45,
          574.84,
          35,
          75,
          292.54,
          30,
          292.54,
          46.96,
          33.8,
          75,
          25.77,
          32.07,
          2000,
          13.09,
          92.04,
          1100,
          11.76,
          7,
          491.86,
          34.08,
          27.17,
          49,
          10.69,
          65,
          3.02,
          532.86,
          301.79,
          305.27,
          301.79,
          8,
          2000,
          60,
          320.99,
          16.23,
          13.84,
          35,
          75,
          37.51,
          5.2,
          75,
          16.04,
          49.63,
          4.46,
          2000,
          12.84,
          957.6,
          1552.65,
          600.51,
          13.09,
          1100,
          5.64,
          35.9,
          11.76,
          27.54,
          30,
          436.75,
          10.7,
          30,
          10.69,
          65,
          44.93,
          41.34,
          2000,
          38.94,
          16.87,
          20.64,
          60,
          35,
          75,
          604.32,
          458.1,
          604.32,
          10.89,
          14.4,
          64.52,
          29.56,
          75,
          2000,
          40,
          268.96,
          14.74,
          268.96,
          5.64,
          39.08,
          13.09,
          1100,
          758.07,
          13.9,
          16.94,
          38.56,
          331.69,
          10.69,
          3.2,
          30,
          21.39,
          65,
          2000,
          480.88,
          35.24,
          98.19,
          23.11,
          2.02,
          60,
          575.33,
          35,
          75,
          415.47,
          32.53,
          765.68,
          27.96,
          2000,
          8,
          36.76,
          30.99,
          34.33,
          765.68,
          75,
          34.82,
          13.09,
          2.75,
          260.95,
          1100,
          30,
          13.9,
          23,
          23.24,
          3.75,
          5.64,
          458.56,
          2000,
          30,
          10.69,
          65,
          152.72,
          152.72,
          10.69,
          33.16,
          35,
          60,
          15,
          41.83,
          75,
          375.26,
          9200,
          100.68,
          100.68,
          2000,
          15,
          30.64,
          75,
          7,
          99.47,
          24.97,
          24,
          13.09,
          229.9,
          1100,
          13.9,
          19,
          2250,
          220.08,
          92.98,
          23.26,
          103.14,
          305.28,
          220.08,
          549.72,
          10.69,
          65,
          30,
          87.14,
          89.99,
          60,
          35,
          75,
          814.5,
          36.42,
          29.83,
          8.82,
          115.52,
          2250,
          28,
          257.08,
          26.67,
          257.08,
          2.5,
          30,
          44.31,
          5.35,
          44.92,
          15.77,
          75,
          13.09,
          1100,
          2250,
          36.36,
          3.96,
          23.47,
          13.9,
          18,
          349.28,
          117.65,
          521.17,
          117.65,
          125,
          11.72,
          10.69,
          30,
          65,
          26.67,
          2.75,
          335.2,
          60,
          2250,
          35,
          87.17,
          33.15,
          19,
          3.5,
          1248.95,
          75,
          2.75,
          34.69,
          2.75,
          39.43,
          66.75,
          3,
          2.75,
          75,
          2250,
          68.04,
          41.78,
          13.09,
          1100,
          41.24,
          13.9,
          3.75,
          1390.37,
          1390.37,
          502.75,
          12.87,
          19.3,
          28.77,
          65.09,
          26.25,
          10.69,
          30,
          360.56,
          65,
          360.56,
          2.75,
          2250,
          46.44,
          47.66,
          90.57,
          90.57,
          35,
          186.13,
          60,
          75,
          1606.46,
          40.81,
          2.75,
          9.43,
          131.1,
          9.43,
          27.71,
          24.63,
          2250,
          33.46,
          4.27,
          1.75,
          75
         ],
         "yaxis": "y"
        }
       ],
       "layout": {
        "legend": {
         "tracegroupgap": 0
        },
        "margin": {
         "t": 60
        },
        "template": {
         "data": {
          "bar": [
           {
            "error_x": {
             "color": "#2a3f5f"
            },
            "error_y": {
             "color": "#2a3f5f"
            },
            "marker": {
             "line": {
              "color": "#E5ECF6",
              "width": 0.5
             },
             "pattern": {
              "fillmode": "overlay",
              "size": 10,
              "solidity": 0.2
             }
            },
            "type": "bar"
           }
          ],
          "barpolar": [
           {
            "marker": {
             "line": {
              "color": "#E5ECF6",
              "width": 0.5
             },
             "pattern": {
              "fillmode": "overlay",
              "size": 10,
              "solidity": 0.2
             }
            },
            "type": "barpolar"
           }
          ],
          "carpet": [
           {
            "aaxis": {
             "endlinecolor": "#2a3f5f",
             "gridcolor": "white",
             "linecolor": "white",
             "minorgridcolor": "white",
             "startlinecolor": "#2a3f5f"
            },
            "baxis": {
             "endlinecolor": "#2a3f5f",
             "gridcolor": "white",
             "linecolor": "white",
             "minorgridcolor": "white",
             "startlinecolor": "#2a3f5f"
            },
            "type": "carpet"
           }
          ],
          "choropleth": [
           {
            "colorbar": {
             "outlinewidth": 0,
             "ticks": ""
            },
            "type": "choropleth"
           }
          ],
          "contour": [
           {
            "colorbar": {
             "outlinewidth": 0,
             "ticks": ""
            },
            "colorscale": [
             [
              0,
              "#0d0887"
             ],
             [
              0.1111111111111111,
              "#46039f"
             ],
             [
              0.2222222222222222,
              "#7201a8"
             ],
             [
              0.3333333333333333,
              "#9c179e"
             ],
             [
              0.4444444444444444,
              "#bd3786"
             ],
             [
              0.5555555555555556,
              "#d8576b"
             ],
             [
              0.6666666666666666,
              "#ed7953"
             ],
             [
              0.7777777777777778,
              "#fb9f3a"
             ],
             [
              0.8888888888888888,
              "#fdca26"
             ],
             [
              1,
              "#f0f921"
             ]
            ],
            "type": "contour"
           }
          ],
          "contourcarpet": [
           {
            "colorbar": {
             "outlinewidth": 0,
             "ticks": ""
            },
            "type": "contourcarpet"
           }
          ],
          "heatmap": [
           {
            "colorbar": {
             "outlinewidth": 0,
             "ticks": ""
            },
            "colorscale": [
             [
              0,
              "#0d0887"
             ],
             [
              0.1111111111111111,
              "#46039f"
             ],
             [
              0.2222222222222222,
              "#7201a8"
             ],
             [
              0.3333333333333333,
              "#9c179e"
             ],
             [
              0.4444444444444444,
              "#bd3786"
             ],
             [
              0.5555555555555556,
              "#d8576b"
             ],
             [
              0.6666666666666666,
              "#ed7953"
             ],
             [
              0.7777777777777778,
              "#fb9f3a"
             ],
             [
              0.8888888888888888,
              "#fdca26"
             ],
             [
              1,
              "#f0f921"
             ]
            ],
            "type": "heatmap"
           }
          ],
          "heatmapgl": [
           {
            "colorbar": {
             "outlinewidth": 0,
             "ticks": ""
            },
            "colorscale": [
             [
              0,
              "#0d0887"
             ],
             [
              0.1111111111111111,
              "#46039f"
             ],
             [
              0.2222222222222222,
              "#7201a8"
             ],
             [
              0.3333333333333333,
              "#9c179e"
             ],
             [
              0.4444444444444444,
              "#bd3786"
             ],
             [
              0.5555555555555556,
              "#d8576b"
             ],
             [
              0.6666666666666666,
              "#ed7953"
             ],
             [
              0.7777777777777778,
              "#fb9f3a"
             ],
             [
              0.8888888888888888,
              "#fdca26"
             ],
             [
              1,
              "#f0f921"
             ]
            ],
            "type": "heatmapgl"
           }
          ],
          "histogram": [
           {
            "marker": {
             "pattern": {
              "fillmode": "overlay",
              "size": 10,
              "solidity": 0.2
             }
            },
            "type": "histogram"
           }
          ],
          "histogram2d": [
           {
            "colorbar": {
             "outlinewidth": 0,
             "ticks": ""
            },
            "colorscale": [
             [
              0,
              "#0d0887"
             ],
             [
              0.1111111111111111,
              "#46039f"
             ],
             [
              0.2222222222222222,
              "#7201a8"
             ],
             [
              0.3333333333333333,
              "#9c179e"
             ],
             [
              0.4444444444444444,
              "#bd3786"
             ],
             [
              0.5555555555555556,
              "#d8576b"
             ],
             [
              0.6666666666666666,
              "#ed7953"
             ],
             [
              0.7777777777777778,
              "#fb9f3a"
             ],
             [
              0.8888888888888888,
              "#fdca26"
             ],
             [
              1,
              "#f0f921"
             ]
            ],
            "type": "histogram2d"
           }
          ],
          "histogram2dcontour": [
           {
            "colorbar": {
             "outlinewidth": 0,
             "ticks": ""
            },
            "colorscale": [
             [
              0,
              "#0d0887"
             ],
             [
              0.1111111111111111,
              "#46039f"
             ],
             [
              0.2222222222222222,
              "#7201a8"
             ],
             [
              0.3333333333333333,
              "#9c179e"
             ],
             [
              0.4444444444444444,
              "#bd3786"
             ],
             [
              0.5555555555555556,
              "#d8576b"
             ],
             [
              0.6666666666666666,
              "#ed7953"
             ],
             [
              0.7777777777777778,
              "#fb9f3a"
             ],
             [
              0.8888888888888888,
              "#fdca26"
             ],
             [
              1,
              "#f0f921"
             ]
            ],
            "type": "histogram2dcontour"
           }
          ],
          "mesh3d": [
           {
            "colorbar": {
             "outlinewidth": 0,
             "ticks": ""
            },
            "type": "mesh3d"
           }
          ],
          "parcoords": [
           {
            "line": {
             "colorbar": {
              "outlinewidth": 0,
              "ticks": ""
             }
            },
            "type": "parcoords"
           }
          ],
          "pie": [
           {
            "automargin": true,
            "type": "pie"
           }
          ],
          "scatter": [
           {
            "fillpattern": {
             "fillmode": "overlay",
             "size": 10,
             "solidity": 0.2
            },
            "type": "scatter"
           }
          ],
          "scatter3d": [
           {
            "line": {
             "colorbar": {
              "outlinewidth": 0,
              "ticks": ""
             }
            },
            "marker": {
             "colorbar": {
              "outlinewidth": 0,
              "ticks": ""
             }
            },
            "type": "scatter3d"
           }
          ],
          "scattercarpet": [
           {
            "marker": {
             "colorbar": {
              "outlinewidth": 0,
              "ticks": ""
             }
            },
            "type": "scattercarpet"
           }
          ],
          "scattergeo": [
           {
            "marker": {
             "colorbar": {
              "outlinewidth": 0,
              "ticks": ""
             }
            },
            "type": "scattergeo"
           }
          ],
          "scattergl": [
           {
            "marker": {
             "colorbar": {
              "outlinewidth": 0,
              "ticks": ""
             }
            },
            "type": "scattergl"
           }
          ],
          "scattermapbox": [
           {
            "marker": {
             "colorbar": {
              "outlinewidth": 0,
              "ticks": ""
             }
            },
            "type": "scattermapbox"
           }
          ],
          "scatterpolar": [
           {
            "marker": {
             "colorbar": {
              "outlinewidth": 0,
              "ticks": ""
             }
            },
            "type": "scatterpolar"
           }
          ],
          "scatterpolargl": [
           {
            "marker": {
             "colorbar": {
              "outlinewidth": 0,
              "ticks": ""
             }
            },
            "type": "scatterpolargl"
           }
          ],
          "scatterternary": [
           {
            "marker": {
             "colorbar": {
              "outlinewidth": 0,
              "ticks": ""
             }
            },
            "type": "scatterternary"
           }
          ],
          "surface": [
           {
            "colorbar": {
             "outlinewidth": 0,
             "ticks": ""
            },
            "colorscale": [
             [
              0,
              "#0d0887"
             ],
             [
              0.1111111111111111,
              "#46039f"
             ],
             [
              0.2222222222222222,
              "#7201a8"
             ],
             [
              0.3333333333333333,
              "#9c179e"
             ],
             [
              0.4444444444444444,
              "#bd3786"
             ],
             [
              0.5555555555555556,
              "#d8576b"
             ],
             [
              0.6666666666666666,
              "#ed7953"
             ],
             [
              0.7777777777777778,
              "#fb9f3a"
             ],
             [
              0.8888888888888888,
              "#fdca26"
             ],
             [
              1,
              "#f0f921"
             ]
            ],
            "type": "surface"
           }
          ],
          "table": [
           {
            "cells": {
             "fill": {
              "color": "#EBF0F8"
             },
             "line": {
              "color": "white"
             }
            },
            "header": {
             "fill": {
              "color": "#C8D4E3"
             },
             "line": {
              "color": "white"
             }
            },
            "type": "table"
           }
          ]
         },
         "layout": {
          "annotationdefaults": {
           "arrowcolor": "#2a3f5f",
           "arrowhead": 0,
           "arrowwidth": 1
          },
          "autotypenumbers": "strict",
          "coloraxis": {
           "colorbar": {
            "outlinewidth": 0,
            "ticks": ""
           }
          },
          "colorscale": {
           "diverging": [
            [
             0,
             "#8e0152"
            ],
            [
             0.1,
             "#c51b7d"
            ],
            [
             0.2,
             "#de77ae"
            ],
            [
             0.3,
             "#f1b6da"
            ],
            [
             0.4,
             "#fde0ef"
            ],
            [
             0.5,
             "#f7f7f7"
            ],
            [
             0.6,
             "#e6f5d0"
            ],
            [
             0.7,
             "#b8e186"
            ],
            [
             0.8,
             "#7fbc41"
            ],
            [
             0.9,
             "#4d9221"
            ],
            [
             1,
             "#276419"
            ]
           ],
           "sequential": [
            [
             0,
             "#0d0887"
            ],
            [
             0.1111111111111111,
             "#46039f"
            ],
            [
             0.2222222222222222,
             "#7201a8"
            ],
            [
             0.3333333333333333,
             "#9c179e"
            ],
            [
             0.4444444444444444,
             "#bd3786"
            ],
            [
             0.5555555555555556,
             "#d8576b"
            ],
            [
             0.6666666666666666,
             "#ed7953"
            ],
            [
             0.7777777777777778,
             "#fb9f3a"
            ],
            [
             0.8888888888888888,
             "#fdca26"
            ],
            [
             1,
             "#f0f921"
            ]
           ],
           "sequentialminus": [
            [
             0,
             "#0d0887"
            ],
            [
             0.1111111111111111,
             "#46039f"
            ],
            [
             0.2222222222222222,
             "#7201a8"
            ],
            [
             0.3333333333333333,
             "#9c179e"
            ],
            [
             0.4444444444444444,
             "#bd3786"
            ],
            [
             0.5555555555555556,
             "#d8576b"
            ],
            [
             0.6666666666666666,
             "#ed7953"
            ],
            [
             0.7777777777777778,
             "#fb9f3a"
            ],
            [
             0.8888888888888888,
             "#fdca26"
            ],
            [
             1,
             "#f0f921"
            ]
           ]
          },
          "colorway": [
           "#636efa",
           "#EF553B",
           "#00cc96",
           "#ab63fa",
           "#FFA15A",
           "#19d3f3",
           "#FF6692",
           "#B6E880",
           "#FF97FF",
           "#FECB52"
          ],
          "font": {
           "color": "#2a3f5f"
          },
          "geo": {
           "bgcolor": "white",
           "lakecolor": "white",
           "landcolor": "#E5ECF6",
           "showlakes": true,
           "showland": true,
           "subunitcolor": "white"
          },
          "hoverlabel": {
           "align": "left"
          },
          "hovermode": "closest",
          "mapbox": {
           "style": "light"
          },
          "paper_bgcolor": "white",
          "plot_bgcolor": "#E5ECF6",
          "polar": {
           "angularaxis": {
            "gridcolor": "white",
            "linecolor": "white",
            "ticks": ""
           },
           "bgcolor": "#E5ECF6",
           "radialaxis": {
            "gridcolor": "white",
            "linecolor": "white",
            "ticks": ""
           }
          },
          "scene": {
           "xaxis": {
            "backgroundcolor": "#E5ECF6",
            "gridcolor": "white",
            "gridwidth": 2,
            "linecolor": "white",
            "showbackground": true,
            "ticks": "",
            "zerolinecolor": "white"
           },
           "yaxis": {
            "backgroundcolor": "#E5ECF6",
            "gridcolor": "white",
            "gridwidth": 2,
            "linecolor": "white",
            "showbackground": true,
            "ticks": "",
            "zerolinecolor": "white"
           },
           "zaxis": {
            "backgroundcolor": "#E5ECF6",
            "gridcolor": "white",
            "gridwidth": 2,
            "linecolor": "white",
            "showbackground": true,
            "ticks": "",
            "zerolinecolor": "white"
           }
          },
          "shapedefaults": {
           "line": {
            "color": "#2a3f5f"
           }
          },
          "ternary": {
           "aaxis": {
            "gridcolor": "white",
            "linecolor": "white",
            "ticks": ""
           },
           "baxis": {
            "gridcolor": "white",
            "linecolor": "white",
            "ticks": ""
           },
           "bgcolor": "#E5ECF6",
           "caxis": {
            "gridcolor": "white",
            "linecolor": "white",
            "ticks": ""
           }
          },
          "title": {
           "x": 0.05
          },
          "xaxis": {
           "automargin": true,
           "gridcolor": "white",
           "linecolor": "white",
           "ticks": "",
           "title": {
            "standoff": 15
           },
           "zerolinecolor": "white",
           "zerolinewidth": 2
          },
          "yaxis": {
           "automargin": true,
           "gridcolor": "white",
           "linecolor": "white",
           "ticks": "",
           "title": {
            "standoff": 15
           },
           "zerolinecolor": "white",
           "zerolinewidth": 2
          }
         }
        },
        "xaxis": {
         "anchor": "y",
         "domain": [
          0,
          1
         ],
         "title": {
          "text": "Date"
         }
        },
        "yaxis": {
         "anchor": "x",
         "domain": [
          0,
          1
         ],
         "title": {
          "text": "Amount"
         }
        }
       }
      }
     },
     "metadata": {},
     "output_type": "display_data"
    }
   ],
   "source": [
    "# Visualizing the Data 3 #\n",
    "# Can't figure out how to make the line continuous - even when changing to x=\"Month\" the line is broken #\n",
    "\n",
    "fig = px.line(data, x=\"Date\", y=\"Amount\")\n",
    "fig.show()"
   ]
  },
  {
   "cell_type": "code",
   "execution_count": 25,
   "metadata": {},
   "outputs": [
    {
     "data": {
      "application/vnd.plotly.v1+json": {
       "config": {
        "plotlyServerURL": "https://plot.ly"
       },
       "data": [
        {
         "branchvalues": "total",
         "domain": {
          "x": [
           0,
           1
          ],
          "y": [
           0,
           1
          ]
         },
         "hovertemplate": "labels=%{label}<br>Amount=%{value}<br>parent=%{parent}<br>id=%{id}<extra></extra>",
         "ids": [
          "All/American Tavern/debit/Alcohol & Bars",
          "All/Brewing Company/debit/Alcohol & Bars",
          "All/Irish Restaurant/debit/Alcohol & Bars",
          "All/Liquor Store/debit/Alcohol & Bars",
          "All/State Farm/debit/Auto Insurance",
          "All/Starbucks/debit/Coffee Shops",
          "All/Credit Card Payment/credit/Credit Card Payment",
          "All/Credit Card Payment/debit/Credit Card Payment",
          "All/Best Buy/debit/Electronics & Software",
          "All/Movie Theater/debit/Entertainment",
          "All/Bojangles/debit/Fast Food",
          "All/Chick-Fil-A/debit/Fast Food",
          "All/Latin Restaurant/debit/Fast Food",
          "All/New York Deli/debit/Fast Food",
          "All/Pizza Place/debit/Fast Food",
          "All/Starbucks/debit/Fast Food",
          "All/Wendy's/debit/Fast Food",
          "All/American Tavern/debit/Food & Dining",
          "All/Seafood Restaurant/debit/Food & Dining",
          "All/BP/debit/Gas & Fuel",
          "All/Chevron/debit/Gas & Fuel",
          "All/Circle K/debit/Gas & Fuel",
          "All/Conoco/debit/Gas & Fuel",
          "All/Exxon/debit/Gas & Fuel",
          "All/Gas Station/debit/Gas & Fuel",
          "All/Go Mart/debit/Gas & Fuel",
          "All/QuikTrip/debit/Gas & Fuel",
          "All/Sheetz/debit/Gas & Fuel",
          "All/Shell/debit/Gas & Fuel",
          "All/Valero/debit/Gas & Fuel",
          "All/Blue Sky Market/debit/Groceries",
          "All/Food Truck/debit/Groceries",
          "All/Grocery Store/debit/Groceries",
          "All/Barbershop/debit/Haircut",
          "All/Hardware Store/debit/Home Improvement",
          "All/Mike's Construction Co./debit/Home Improvement",
          "All/Internet Service Provider/debit/Internet",
          "All/Phone Company/debit/Mobile Phone",
          "All/Mortgage Payment/debit/Mortgage & Rent",
          "All/Amazon Video/debit/Movies & DVDs",
          "All/Movie Theater/debit/Movies & DVDs",
          "All/Netflix/debit/Movies & DVDs",
          "All/Spotify/debit/Music",
          "All/Biweekly Paycheck/credit/Paycheck",
          "All/American Tavern/debit/Restaurants",
          "All/BBQ Restaurant/debit/Restaurants",
          "All/Bakery Place/debit/Restaurants",
          "All/Belgian Restaurant/debit/Restaurants",
          "All/Brewing Company/debit/Restaurants",
          "All/Brunch Restaurant/debit/Restaurants",
          "All/Chili's/debit/Restaurants",
          "All/Fancy Restaurant/debit/Restaurants",
          "All/German Restaurant/debit/Restaurants",
          "All/Greek Restaurant/debit/Restaurants",
          "All/Hawaiian Grill/debit/Restaurants",
          "All/Irish Pub/debit/Restaurants",
          "All/Italian Restaurant/debit/Restaurants",
          "All/Japanese Restaurant/debit/Restaurants",
          "All/Mediterranean Restaurant/debit/Restaurants",
          "All/Mexican Restaurant/debit/Restaurants",
          "All/Pizza Place/debit/Restaurants",
          "All/Roadside Diner/debit/Restaurants",
          "All/Seafood Restaurant/debit/Restaurants",
          "All/Steakhouse/debit/Restaurants",
          "All/Sushi Restaurant/debit/Restaurants",
          "All/Thai Restaurant/debit/Restaurants",
          "All/Tiny Deli/debit/Restaurants",
          "All/Vietnamese Restaurant/debit/Restaurants",
          "All/Amazon/debit/Shopping",
          "All/Target/debit/Shopping",
          "All/Netflix/debit/Television",
          "All/City Water Charges/debit/Utilities",
          "All/Gas Company/debit/Utilities",
          "All/Power Company/debit/Utilities",
          "All/Biweekly Paycheck/credit",
          "All/Credit Card Payment/credit",
          "All/Amazon/debit",
          "All/Amazon Video/debit",
          "All/American Tavern/debit",
          "All/BBQ Restaurant/debit",
          "All/BP/debit",
          "All/Bakery Place/debit",
          "All/Barbershop/debit",
          "All/Belgian Restaurant/debit",
          "All/Best Buy/debit",
          "All/Blue Sky Market/debit",
          "All/Bojangles/debit",
          "All/Brewing Company/debit",
          "All/Brunch Restaurant/debit",
          "All/Chevron/debit",
          "All/Chick-Fil-A/debit",
          "All/Chili's/debit",
          "All/Circle K/debit",
          "All/City Water Charges/debit",
          "All/Conoco/debit",
          "All/Credit Card Payment/debit",
          "All/Exxon/debit",
          "All/Fancy Restaurant/debit",
          "All/Food Truck/debit",
          "All/Gas Company/debit",
          "All/Gas Station/debit",
          "All/German Restaurant/debit",
          "All/Go Mart/debit",
          "All/Greek Restaurant/debit",
          "All/Grocery Store/debit",
          "All/Hardware Store/debit",
          "All/Hawaiian Grill/debit",
          "All/Internet Service Provider/debit",
          "All/Irish Pub/debit",
          "All/Irish Restaurant/debit",
          "All/Italian Restaurant/debit",
          "All/Japanese Restaurant/debit",
          "All/Latin Restaurant/debit",
          "All/Liquor Store/debit",
          "All/Mediterranean Restaurant/debit",
          "All/Mexican Restaurant/debit",
          "All/Mike's Construction Co./debit",
          "All/Mortgage Payment/debit",
          "All/Movie Theater/debit",
          "All/Netflix/debit",
          "All/New York Deli/debit",
          "All/Phone Company/debit",
          "All/Pizza Place/debit",
          "All/Power Company/debit",
          "All/QuikTrip/debit",
          "All/Roadside Diner/debit",
          "All/Seafood Restaurant/debit",
          "All/Sheetz/debit",
          "All/Shell/debit",
          "All/Spotify/debit",
          "All/Starbucks/debit",
          "All/State Farm/debit",
          "All/Steakhouse/debit",
          "All/Sushi Restaurant/debit",
          "All/Target/debit",
          "All/Thai Restaurant/debit",
          "All/Tiny Deli/debit",
          "All/Valero/debit",
          "All/Vietnamese Restaurant/debit",
          "All/Wendy's/debit",
          "All/Amazon",
          "All/Amazon Video",
          "All/American Tavern",
          "All/BBQ Restaurant",
          "All/BP",
          "All/Bakery Place",
          "All/Barbershop",
          "All/Belgian Restaurant",
          "All/Best Buy",
          "All/Biweekly Paycheck",
          "All/Blue Sky Market",
          "All/Bojangles",
          "All/Brewing Company",
          "All/Brunch Restaurant",
          "All/Chevron",
          "All/Chick-Fil-A",
          "All/Chili's",
          "All/Circle K",
          "All/City Water Charges",
          "All/Conoco",
          "All/Credit Card Payment",
          "All/Exxon",
          "All/Fancy Restaurant",
          "All/Food Truck",
          "All/Gas Company",
          "All/Gas Station",
          "All/German Restaurant",
          "All/Go Mart",
          "All/Greek Restaurant",
          "All/Grocery Store",
          "All/Hardware Store",
          "All/Hawaiian Grill",
          "All/Internet Service Provider",
          "All/Irish Pub",
          "All/Irish Restaurant",
          "All/Italian Restaurant",
          "All/Japanese Restaurant",
          "All/Latin Restaurant",
          "All/Liquor Store",
          "All/Mediterranean Restaurant",
          "All/Mexican Restaurant",
          "All/Mike's Construction Co.",
          "All/Mortgage Payment",
          "All/Movie Theater",
          "All/Netflix",
          "All/New York Deli",
          "All/Phone Company",
          "All/Pizza Place",
          "All/Power Company",
          "All/QuikTrip",
          "All/Roadside Diner",
          "All/Seafood Restaurant",
          "All/Sheetz",
          "All/Shell",
          "All/Spotify",
          "All/Starbucks",
          "All/State Farm",
          "All/Steakhouse",
          "All/Sushi Restaurant",
          "All/Target",
          "All/Thai Restaurant",
          "All/Tiny Deli",
          "All/Valero",
          "All/Vietnamese Restaurant",
          "All/Wendy's",
          "All"
         ],
         "labels": [
          "Alcohol & Bars",
          "Alcohol & Bars",
          "Alcohol & Bars",
          "Alcohol & Bars",
          "Auto Insurance",
          "Coffee Shops",
          "Credit Card Payment",
          "Credit Card Payment",
          "Electronics & Software",
          "Entertainment",
          "Fast Food",
          "Fast Food",
          "Fast Food",
          "Fast Food",
          "Fast Food",
          "Fast Food",
          "Fast Food",
          "Food & Dining",
          "Food & Dining",
          "Gas & Fuel",
          "Gas & Fuel",
          "Gas & Fuel",
          "Gas & Fuel",
          "Gas & Fuel",
          "Gas & Fuel",
          "Gas & Fuel",
          "Gas & Fuel",
          "Gas & Fuel",
          "Gas & Fuel",
          "Gas & Fuel",
          "Groceries",
          "Groceries",
          "Groceries",
          "Haircut",
          "Home Improvement",
          "Home Improvement",
          "Internet",
          "Mobile Phone",
          "Mortgage & Rent",
          "Movies & DVDs",
          "Movies & DVDs",
          "Movies & DVDs",
          "Music",
          "Paycheck",
          "Restaurants",
          "Restaurants",
          "Restaurants",
          "Restaurants",
          "Restaurants",
          "Restaurants",
          "Restaurants",
          "Restaurants",
          "Restaurants",
          "Restaurants",
          "Restaurants",
          "Restaurants",
          "Restaurants",
          "Restaurants",
          "Restaurants",
          "Restaurants",
          "Restaurants",
          "Restaurants",
          "Restaurants",
          "Restaurants",
          "Restaurants",
          "Restaurants",
          "Restaurants",
          "Restaurants",
          "Shopping",
          "Shopping",
          "Television",
          "Utilities",
          "Utilities",
          "Utilities",
          "credit",
          "credit",
          "debit",
          "debit",
          "debit",
          "debit",
          "debit",
          "debit",
          "debit",
          "debit",
          "debit",
          "debit",
          "debit",
          "debit",
          "debit",
          "debit",
          "debit",
          "debit",
          "debit",
          "debit",
          "debit",
          "debit",
          "debit",
          "debit",
          "debit",
          "debit",
          "debit",
          "debit",
          "debit",
          "debit",
          "debit",
          "debit",
          "debit",
          "debit",
          "debit",
          "debit",
          "debit",
          "debit",
          "debit",
          "debit",
          "debit",
          "debit",
          "debit",
          "debit",
          "debit",
          "debit",
          "debit",
          "debit",
          "debit",
          "debit",
          "debit",
          "debit",
          "debit",
          "debit",
          "debit",
          "debit",
          "debit",
          "debit",
          "debit",
          "debit",
          "debit",
          "debit",
          "debit",
          "debit",
          "debit",
          "debit",
          "Amazon",
          "Amazon Video",
          "American Tavern",
          "BBQ Restaurant",
          "BP",
          "Bakery Place",
          "Barbershop",
          "Belgian Restaurant",
          "Best Buy",
          "Biweekly Paycheck",
          "Blue Sky Market",
          "Bojangles",
          "Brewing Company",
          "Brunch Restaurant",
          "Chevron",
          "Chick-Fil-A",
          "Chili's",
          "Circle K",
          "City Water Charges",
          "Conoco",
          "Credit Card Payment",
          "Exxon",
          "Fancy Restaurant",
          "Food Truck",
          "Gas Company",
          "Gas Station",
          "German Restaurant",
          "Go Mart",
          "Greek Restaurant",
          "Grocery Store",
          "Hardware Store",
          "Hawaiian Grill",
          "Internet Service Provider",
          "Irish Pub",
          "Irish Restaurant",
          "Italian Restaurant",
          "Japanese Restaurant",
          "Latin Restaurant",
          "Liquor Store",
          "Mediterranean Restaurant",
          "Mexican Restaurant",
          "Mike's Construction Co.",
          "Mortgage Payment",
          "Movie Theater",
          "Netflix",
          "New York Deli",
          "Phone Company",
          "Pizza Place",
          "Power Company",
          "QuikTrip",
          "Roadside Diner",
          "Seafood Restaurant",
          "Sheetz",
          "Shell",
          "Spotify",
          "Starbucks",
          "State Farm",
          "Steakhouse",
          "Sushi Restaurant",
          "Target",
          "Thai Restaurant",
          "Tiny Deli",
          "Valero",
          "Vietnamese Restaurant",
          "Wendy's",
          "All"
         ],
         "name": "",
         "parents": [
          "All/American Tavern/debit",
          "All/Brewing Company/debit",
          "All/Irish Restaurant/debit",
          "All/Liquor Store/debit",
          "All/State Farm/debit",
          "All/Starbucks/debit",
          "All/Credit Card Payment/credit",
          "All/Credit Card Payment/debit",
          "All/Best Buy/debit",
          "All/Movie Theater/debit",
          "All/Bojangles/debit",
          "All/Chick-Fil-A/debit",
          "All/Latin Restaurant/debit",
          "All/New York Deli/debit",
          "All/Pizza Place/debit",
          "All/Starbucks/debit",
          "All/Wendy's/debit",
          "All/American Tavern/debit",
          "All/Seafood Restaurant/debit",
          "All/BP/debit",
          "All/Chevron/debit",
          "All/Circle K/debit",
          "All/Conoco/debit",
          "All/Exxon/debit",
          "All/Gas Station/debit",
          "All/Go Mart/debit",
          "All/QuikTrip/debit",
          "All/Sheetz/debit",
          "All/Shell/debit",
          "All/Valero/debit",
          "All/Blue Sky Market/debit",
          "All/Food Truck/debit",
          "All/Grocery Store/debit",
          "All/Barbershop/debit",
          "All/Hardware Store/debit",
          "All/Mike's Construction Co./debit",
          "All/Internet Service Provider/debit",
          "All/Phone Company/debit",
          "All/Mortgage Payment/debit",
          "All/Amazon Video/debit",
          "All/Movie Theater/debit",
          "All/Netflix/debit",
          "All/Spotify/debit",
          "All/Biweekly Paycheck/credit",
          "All/American Tavern/debit",
          "All/BBQ Restaurant/debit",
          "All/Bakery Place/debit",
          "All/Belgian Restaurant/debit",
          "All/Brewing Company/debit",
          "All/Brunch Restaurant/debit",
          "All/Chili's/debit",
          "All/Fancy Restaurant/debit",
          "All/German Restaurant/debit",
          "All/Greek Restaurant/debit",
          "All/Hawaiian Grill/debit",
          "All/Irish Pub/debit",
          "All/Italian Restaurant/debit",
          "All/Japanese Restaurant/debit",
          "All/Mediterranean Restaurant/debit",
          "All/Mexican Restaurant/debit",
          "All/Pizza Place/debit",
          "All/Roadside Diner/debit",
          "All/Seafood Restaurant/debit",
          "All/Steakhouse/debit",
          "All/Sushi Restaurant/debit",
          "All/Thai Restaurant/debit",
          "All/Tiny Deli/debit",
          "All/Vietnamese Restaurant/debit",
          "All/Amazon/debit",
          "All/Target/debit",
          "All/Netflix/debit",
          "All/City Water Charges/debit",
          "All/Gas Company/debit",
          "All/Power Company/debit",
          "All/Biweekly Paycheck",
          "All/Credit Card Payment",
          "All/Amazon",
          "All/Amazon Video",
          "All/American Tavern",
          "All/BBQ Restaurant",
          "All/BP",
          "All/Bakery Place",
          "All/Barbershop",
          "All/Belgian Restaurant",
          "All/Best Buy",
          "All/Blue Sky Market",
          "All/Bojangles",
          "All/Brewing Company",
          "All/Brunch Restaurant",
          "All/Chevron",
          "All/Chick-Fil-A",
          "All/Chili's",
          "All/Circle K",
          "All/City Water Charges",
          "All/Conoco",
          "All/Credit Card Payment",
          "All/Exxon",
          "All/Fancy Restaurant",
          "All/Food Truck",
          "All/Gas Company",
          "All/Gas Station",
          "All/German Restaurant",
          "All/Go Mart",
          "All/Greek Restaurant",
          "All/Grocery Store",
          "All/Hardware Store",
          "All/Hawaiian Grill",
          "All/Internet Service Provider",
          "All/Irish Pub",
          "All/Irish Restaurant",
          "All/Italian Restaurant",
          "All/Japanese Restaurant",
          "All/Latin Restaurant",
          "All/Liquor Store",
          "All/Mediterranean Restaurant",
          "All/Mexican Restaurant",
          "All/Mike's Construction Co.",
          "All/Mortgage Payment",
          "All/Movie Theater",
          "All/Netflix",
          "All/New York Deli",
          "All/Phone Company",
          "All/Pizza Place",
          "All/Power Company",
          "All/QuikTrip",
          "All/Roadside Diner",
          "All/Seafood Restaurant",
          "All/Sheetz",
          "All/Shell",
          "All/Spotify",
          "All/Starbucks",
          "All/State Farm",
          "All/Steakhouse",
          "All/Sushi Restaurant",
          "All/Target",
          "All/Thai Restaurant",
          "All/Tiny Deli",
          "All/Valero",
          "All/Vietnamese Restaurant",
          "All/Wendy's",
          "All",
          "All",
          "All",
          "All",
          "All",
          "All",
          "All",
          "All",
          "All",
          "All",
          "All",
          "All",
          "All",
          "All",
          "All",
          "All",
          "All",
          "All",
          "All",
          "All",
          "All",
          "All",
          "All",
          "All",
          "All",
          "All",
          "All",
          "All",
          "All",
          "All",
          "All",
          "All",
          "All",
          "All",
          "All",
          "All",
          "All",
          "All",
          "All",
          "All",
          "All",
          "All",
          "All",
          "All",
          "All",
          "All",
          "All",
          "All",
          "All",
          "All",
          "All",
          "All",
          "All",
          "All",
          "All",
          "All",
          "All",
          "All",
          "All",
          "All",
          "All",
          "All",
          "All",
          "All",
          "All",
          ""
         ],
         "type": "treemap",
         "values": [
          16.8,
          466.02,
          28.54,
          27.77,
          1350,
          115.53999999999999,
          30519.76,
          33041.36,
          719,
          9.62,
          17.93,
          100.11,
          20.65,
          21.38,
          145.75,
          9.58,
          15.23,
          63,
          14.75,
          678.06,
          4.58,
          36.24,
          33.67,
          38,
          32.21,
          33.51,
          179.09,
          4.27,
          601.17,
          74.37,
          6.48,
          24.4,
          2764.33,
          378,
          1892.87,
          17200,
          1570.8799999999999,
          1680.4,
          24754.5,
          12.82,
          68.25,
          141.12,
          224.48999999999998,
          93750,
          680.4399999999999,
          84.02000000000001,
          3.02,
          38.32,
          59.48,
          133.15,
          24.74,
          432.67,
          46.7,
          221.82999999999998,
          24.97,
          22,
          119.81,
          57.02,
          36.48,
          109.08,
          24.98,
          35.24,
          131.1,
          17.64,
          48.64,
          231.29,
          9.76,
          20.64,
          1970.04,
          3.2,
          104.78,
          735,
          781,
          1260,
          93750,
          30519.76,
          1970.04,
          12.82,
          760.24,
          84.02000000000001,
          678.06,
          3.02,
          378,
          38.32,
          719,
          6.48,
          17.93,
          525.5,
          133.15,
          4.58,
          100.11,
          24.74,
          36.24,
          735,
          33.67,
          33041.36,
          38,
          432.67,
          24.4,
          781,
          32.21,
          46.7,
          33.51,
          221.82999999999998,
          2764.33,
          1892.87,
          24.97,
          1570.8799999999999,
          22,
          28.54,
          119.81,
          57.02,
          20.65,
          27.77,
          36.48,
          109.08,
          17200,
          24754.5,
          77.87,
          245.9,
          21.38,
          1680.4,
          170.73,
          1260,
          179.09,
          35.24,
          145.85,
          4.27,
          601.17,
          224.48999999999998,
          125.12,
          1350,
          17.64,
          48.64,
          3.2,
          231.29,
          9.76,
          74.37,
          20.64,
          15.23,
          1970.04,
          12.82,
          760.24,
          84.02000000000001,
          678.06,
          3.02,
          378,
          38.32,
          719,
          93750,
          6.48,
          17.93,
          525.5,
          133.15,
          4.58,
          100.11,
          24.74,
          36.24,
          735,
          33.67,
          63561.12,
          38,
          432.67,
          24.4,
          781,
          32.21,
          46.7,
          33.51,
          221.82999999999998,
          2764.33,
          1892.87,
          24.97,
          1570.8799999999999,
          22,
          28.54,
          119.81,
          57.02,
          20.65,
          27.77,
          36.48,
          109.08,
          17200,
          24754.5,
          77.87,
          245.9,
          21.38,
          1680.4,
          170.73,
          1260,
          179.09,
          35.24,
          145.85,
          4.27,
          601.17,
          224.48999999999998,
          125.12,
          1350,
          17.64,
          48.64,
          3.2,
          231.29,
          9.76,
          74.37,
          20.64,
          15.23,
          220353.54
         ]
        }
       ],
       "layout": {
        "legend": {
         "tracegroupgap": 0
        },
        "margin": {
         "b": 25,
         "l": 25,
         "r": 25,
         "t": 50
        },
        "template": {
         "data": {
          "bar": [
           {
            "error_x": {
             "color": "#2a3f5f"
            },
            "error_y": {
             "color": "#2a3f5f"
            },
            "marker": {
             "line": {
              "color": "#E5ECF6",
              "width": 0.5
             },
             "pattern": {
              "fillmode": "overlay",
              "size": 10,
              "solidity": 0.2
             }
            },
            "type": "bar"
           }
          ],
          "barpolar": [
           {
            "marker": {
             "line": {
              "color": "#E5ECF6",
              "width": 0.5
             },
             "pattern": {
              "fillmode": "overlay",
              "size": 10,
              "solidity": 0.2
             }
            },
            "type": "barpolar"
           }
          ],
          "carpet": [
           {
            "aaxis": {
             "endlinecolor": "#2a3f5f",
             "gridcolor": "white",
             "linecolor": "white",
             "minorgridcolor": "white",
             "startlinecolor": "#2a3f5f"
            },
            "baxis": {
             "endlinecolor": "#2a3f5f",
             "gridcolor": "white",
             "linecolor": "white",
             "minorgridcolor": "white",
             "startlinecolor": "#2a3f5f"
            },
            "type": "carpet"
           }
          ],
          "choropleth": [
           {
            "colorbar": {
             "outlinewidth": 0,
             "ticks": ""
            },
            "type": "choropleth"
           }
          ],
          "contour": [
           {
            "colorbar": {
             "outlinewidth": 0,
             "ticks": ""
            },
            "colorscale": [
             [
              0,
              "#0d0887"
             ],
             [
              0.1111111111111111,
              "#46039f"
             ],
             [
              0.2222222222222222,
              "#7201a8"
             ],
             [
              0.3333333333333333,
              "#9c179e"
             ],
             [
              0.4444444444444444,
              "#bd3786"
             ],
             [
              0.5555555555555556,
              "#d8576b"
             ],
             [
              0.6666666666666666,
              "#ed7953"
             ],
             [
              0.7777777777777778,
              "#fb9f3a"
             ],
             [
              0.8888888888888888,
              "#fdca26"
             ],
             [
              1,
              "#f0f921"
             ]
            ],
            "type": "contour"
           }
          ],
          "contourcarpet": [
           {
            "colorbar": {
             "outlinewidth": 0,
             "ticks": ""
            },
            "type": "contourcarpet"
           }
          ],
          "heatmap": [
           {
            "colorbar": {
             "outlinewidth": 0,
             "ticks": ""
            },
            "colorscale": [
             [
              0,
              "#0d0887"
             ],
             [
              0.1111111111111111,
              "#46039f"
             ],
             [
              0.2222222222222222,
              "#7201a8"
             ],
             [
              0.3333333333333333,
              "#9c179e"
             ],
             [
              0.4444444444444444,
              "#bd3786"
             ],
             [
              0.5555555555555556,
              "#d8576b"
             ],
             [
              0.6666666666666666,
              "#ed7953"
             ],
             [
              0.7777777777777778,
              "#fb9f3a"
             ],
             [
              0.8888888888888888,
              "#fdca26"
             ],
             [
              1,
              "#f0f921"
             ]
            ],
            "type": "heatmap"
           }
          ],
          "heatmapgl": [
           {
            "colorbar": {
             "outlinewidth": 0,
             "ticks": ""
            },
            "colorscale": [
             [
              0,
              "#0d0887"
             ],
             [
              0.1111111111111111,
              "#46039f"
             ],
             [
              0.2222222222222222,
              "#7201a8"
             ],
             [
              0.3333333333333333,
              "#9c179e"
             ],
             [
              0.4444444444444444,
              "#bd3786"
             ],
             [
              0.5555555555555556,
              "#d8576b"
             ],
             [
              0.6666666666666666,
              "#ed7953"
             ],
             [
              0.7777777777777778,
              "#fb9f3a"
             ],
             [
              0.8888888888888888,
              "#fdca26"
             ],
             [
              1,
              "#f0f921"
             ]
            ],
            "type": "heatmapgl"
           }
          ],
          "histogram": [
           {
            "marker": {
             "pattern": {
              "fillmode": "overlay",
              "size": 10,
              "solidity": 0.2
             }
            },
            "type": "histogram"
           }
          ],
          "histogram2d": [
           {
            "colorbar": {
             "outlinewidth": 0,
             "ticks": ""
            },
            "colorscale": [
             [
              0,
              "#0d0887"
             ],
             [
              0.1111111111111111,
              "#46039f"
             ],
             [
              0.2222222222222222,
              "#7201a8"
             ],
             [
              0.3333333333333333,
              "#9c179e"
             ],
             [
              0.4444444444444444,
              "#bd3786"
             ],
             [
              0.5555555555555556,
              "#d8576b"
             ],
             [
              0.6666666666666666,
              "#ed7953"
             ],
             [
              0.7777777777777778,
              "#fb9f3a"
             ],
             [
              0.8888888888888888,
              "#fdca26"
             ],
             [
              1,
              "#f0f921"
             ]
            ],
            "type": "histogram2d"
           }
          ],
          "histogram2dcontour": [
           {
            "colorbar": {
             "outlinewidth": 0,
             "ticks": ""
            },
            "colorscale": [
             [
              0,
              "#0d0887"
             ],
             [
              0.1111111111111111,
              "#46039f"
             ],
             [
              0.2222222222222222,
              "#7201a8"
             ],
             [
              0.3333333333333333,
              "#9c179e"
             ],
             [
              0.4444444444444444,
              "#bd3786"
             ],
             [
              0.5555555555555556,
              "#d8576b"
             ],
             [
              0.6666666666666666,
              "#ed7953"
             ],
             [
              0.7777777777777778,
              "#fb9f3a"
             ],
             [
              0.8888888888888888,
              "#fdca26"
             ],
             [
              1,
              "#f0f921"
             ]
            ],
            "type": "histogram2dcontour"
           }
          ],
          "mesh3d": [
           {
            "colorbar": {
             "outlinewidth": 0,
             "ticks": ""
            },
            "type": "mesh3d"
           }
          ],
          "parcoords": [
           {
            "line": {
             "colorbar": {
              "outlinewidth": 0,
              "ticks": ""
             }
            },
            "type": "parcoords"
           }
          ],
          "pie": [
           {
            "automargin": true,
            "type": "pie"
           }
          ],
          "scatter": [
           {
            "fillpattern": {
             "fillmode": "overlay",
             "size": 10,
             "solidity": 0.2
            },
            "type": "scatter"
           }
          ],
          "scatter3d": [
           {
            "line": {
             "colorbar": {
              "outlinewidth": 0,
              "ticks": ""
             }
            },
            "marker": {
             "colorbar": {
              "outlinewidth": 0,
              "ticks": ""
             }
            },
            "type": "scatter3d"
           }
          ],
          "scattercarpet": [
           {
            "marker": {
             "colorbar": {
              "outlinewidth": 0,
              "ticks": ""
             }
            },
            "type": "scattercarpet"
           }
          ],
          "scattergeo": [
           {
            "marker": {
             "colorbar": {
              "outlinewidth": 0,
              "ticks": ""
             }
            },
            "type": "scattergeo"
           }
          ],
          "scattergl": [
           {
            "marker": {
             "colorbar": {
              "outlinewidth": 0,
              "ticks": ""
             }
            },
            "type": "scattergl"
           }
          ],
          "scattermapbox": [
           {
            "marker": {
             "colorbar": {
              "outlinewidth": 0,
              "ticks": ""
             }
            },
            "type": "scattermapbox"
           }
          ],
          "scatterpolar": [
           {
            "marker": {
             "colorbar": {
              "outlinewidth": 0,
              "ticks": ""
             }
            },
            "type": "scatterpolar"
           }
          ],
          "scatterpolargl": [
           {
            "marker": {
             "colorbar": {
              "outlinewidth": 0,
              "ticks": ""
             }
            },
            "type": "scatterpolargl"
           }
          ],
          "scatterternary": [
           {
            "marker": {
             "colorbar": {
              "outlinewidth": 0,
              "ticks": ""
             }
            },
            "type": "scatterternary"
           }
          ],
          "surface": [
           {
            "colorbar": {
             "outlinewidth": 0,
             "ticks": ""
            },
            "colorscale": [
             [
              0,
              "#0d0887"
             ],
             [
              0.1111111111111111,
              "#46039f"
             ],
             [
              0.2222222222222222,
              "#7201a8"
             ],
             [
              0.3333333333333333,
              "#9c179e"
             ],
             [
              0.4444444444444444,
              "#bd3786"
             ],
             [
              0.5555555555555556,
              "#d8576b"
             ],
             [
              0.6666666666666666,
              "#ed7953"
             ],
             [
              0.7777777777777778,
              "#fb9f3a"
             ],
             [
              0.8888888888888888,
              "#fdca26"
             ],
             [
              1,
              "#f0f921"
             ]
            ],
            "type": "surface"
           }
          ],
          "table": [
           {
            "cells": {
             "fill": {
              "color": "#EBF0F8"
             },
             "line": {
              "color": "white"
             }
            },
            "header": {
             "fill": {
              "color": "#C8D4E3"
             },
             "line": {
              "color": "white"
             }
            },
            "type": "table"
           }
          ]
         },
         "layout": {
          "annotationdefaults": {
           "arrowcolor": "#2a3f5f",
           "arrowhead": 0,
           "arrowwidth": 1
          },
          "autotypenumbers": "strict",
          "coloraxis": {
           "colorbar": {
            "outlinewidth": 0,
            "ticks": ""
           }
          },
          "colorscale": {
           "diverging": [
            [
             0,
             "#8e0152"
            ],
            [
             0.1,
             "#c51b7d"
            ],
            [
             0.2,
             "#de77ae"
            ],
            [
             0.3,
             "#f1b6da"
            ],
            [
             0.4,
             "#fde0ef"
            ],
            [
             0.5,
             "#f7f7f7"
            ],
            [
             0.6,
             "#e6f5d0"
            ],
            [
             0.7,
             "#b8e186"
            ],
            [
             0.8,
             "#7fbc41"
            ],
            [
             0.9,
             "#4d9221"
            ],
            [
             1,
             "#276419"
            ]
           ],
           "sequential": [
            [
             0,
             "#0d0887"
            ],
            [
             0.1111111111111111,
             "#46039f"
            ],
            [
             0.2222222222222222,
             "#7201a8"
            ],
            [
             0.3333333333333333,
             "#9c179e"
            ],
            [
             0.4444444444444444,
             "#bd3786"
            ],
            [
             0.5555555555555556,
             "#d8576b"
            ],
            [
             0.6666666666666666,
             "#ed7953"
            ],
            [
             0.7777777777777778,
             "#fb9f3a"
            ],
            [
             0.8888888888888888,
             "#fdca26"
            ],
            [
             1,
             "#f0f921"
            ]
           ],
           "sequentialminus": [
            [
             0,
             "#0d0887"
            ],
            [
             0.1111111111111111,
             "#46039f"
            ],
            [
             0.2222222222222222,
             "#7201a8"
            ],
            [
             0.3333333333333333,
             "#9c179e"
            ],
            [
             0.4444444444444444,
             "#bd3786"
            ],
            [
             0.5555555555555556,
             "#d8576b"
            ],
            [
             0.6666666666666666,
             "#ed7953"
            ],
            [
             0.7777777777777778,
             "#fb9f3a"
            ],
            [
             0.8888888888888888,
             "#fdca26"
            ],
            [
             1,
             "#f0f921"
            ]
           ]
          },
          "colorway": [
           "#636efa",
           "#EF553B",
           "#00cc96",
           "#ab63fa",
           "#FFA15A",
           "#19d3f3",
           "#FF6692",
           "#B6E880",
           "#FF97FF",
           "#FECB52"
          ],
          "font": {
           "color": "#2a3f5f"
          },
          "geo": {
           "bgcolor": "white",
           "lakecolor": "white",
           "landcolor": "#E5ECF6",
           "showlakes": true,
           "showland": true,
           "subunitcolor": "white"
          },
          "hoverlabel": {
           "align": "left"
          },
          "hovermode": "closest",
          "mapbox": {
           "style": "light"
          },
          "paper_bgcolor": "white",
          "plot_bgcolor": "#E5ECF6",
          "polar": {
           "angularaxis": {
            "gridcolor": "white",
            "linecolor": "white",
            "ticks": ""
           },
           "bgcolor": "#E5ECF6",
           "radialaxis": {
            "gridcolor": "white",
            "linecolor": "white",
            "ticks": ""
           }
          },
          "scene": {
           "xaxis": {
            "backgroundcolor": "#E5ECF6",
            "gridcolor": "white",
            "gridwidth": 2,
            "linecolor": "white",
            "showbackground": true,
            "ticks": "",
            "zerolinecolor": "white"
           },
           "yaxis": {
            "backgroundcolor": "#E5ECF6",
            "gridcolor": "white",
            "gridwidth": 2,
            "linecolor": "white",
            "showbackground": true,
            "ticks": "",
            "zerolinecolor": "white"
           },
           "zaxis": {
            "backgroundcolor": "#E5ECF6",
            "gridcolor": "white",
            "gridwidth": 2,
            "linecolor": "white",
            "showbackground": true,
            "ticks": "",
            "zerolinecolor": "white"
           }
          },
          "shapedefaults": {
           "line": {
            "color": "#2a3f5f"
           }
          },
          "ternary": {
           "aaxis": {
            "gridcolor": "white",
            "linecolor": "white",
            "ticks": ""
           },
           "baxis": {
            "gridcolor": "white",
            "linecolor": "white",
            "ticks": ""
           },
           "bgcolor": "#E5ECF6",
           "caxis": {
            "gridcolor": "white",
            "linecolor": "white",
            "ticks": ""
           }
          },
          "title": {
           "x": 0.05
          },
          "xaxis": {
           "automargin": true,
           "gridcolor": "white",
           "linecolor": "white",
           "ticks": "",
           "title": {
            "standoff": 15
           },
           "zerolinecolor": "white",
           "zerolinewidth": 2
          },
          "yaxis": {
           "automargin": true,
           "gridcolor": "white",
           "linecolor": "white",
           "ticks": "",
           "title": {
            "standoff": 15
           },
           "zerolinecolor": "white",
           "zerolinewidth": 2
          }
         }
        }
       }
      }
     },
     "metadata": {},
     "output_type": "display_data"
    }
   ],
   "source": [
    "# Visualizing the Data 4 #\n",
    "\n",
    "fig = px.treemap(data, path=[px.Constant(\"All\"), 'Description', 'Transaction Type', 'Category'], values=\"Amount\")\n",
    "fig.update_layout(margin = dict(t=50, l=25, r=25, b=25))\n",
    "fig.show()"
   ]
  },
  {
   "cell_type": "code",
   "execution_count": 26,
   "metadata": {},
   "outputs": [
    {
     "name": "stdout",
     "output_type": "stream",
     "text": [
      "<class 'pandas.core.frame.DataFrame'>\n",
      "RangeIndex: 806 entries, 0 to 805\n",
      "Data columns (total 8 columns):\n",
      " #   Column            Non-Null Count  Dtype  \n",
      "---  ------            --------------  -----  \n",
      " 0   Date              806 non-null    object \n",
      " 1   Description       806 non-null    object \n",
      " 2   Amount            806 non-null    float64\n",
      " 3   Transaction Type  806 non-null    object \n",
      " 4   Category          806 non-null    object \n",
      " 5   Account Name      806 non-null    object \n",
      " 6   Month             806 non-null    int32  \n",
      " 7   Year              806 non-null    int32  \n",
      "dtypes: float64(1), int32(2), object(5)\n",
      "memory usage: 44.2+ KB\n"
     ]
    }
   ],
   "source": [
    "# Information about the Data\n",
    "data.info()"
   ]
  }
 ],
 "metadata": {
  "kernelspec": {
   "display_name": "Python 3",
   "language": "python",
   "name": "python3"
  },
  "language_info": {
   "codemirror_mode": {
    "name": "ipython",
    "version": 3
   },
   "file_extension": ".py",
   "mimetype": "text/x-python",
   "name": "python",
   "nbconvert_exporter": "python",
   "pygments_lexer": "ipython3",
   "version": "3.11.0"
  }
 },
 "nbformat": 4,
 "nbformat_minor": 2
}
